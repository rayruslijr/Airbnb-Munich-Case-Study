{
 "cells": [
  {
   "cell_type": "markdown",
   "id": "14a42ff9",
   "metadata": {},
   "source": [
    "__01.Importing Libraries__"
   ]
  },
  {
   "cell_type": "code",
   "execution_count": 2,
   "id": "7feee9c2",
   "metadata": {},
   "outputs": [],
   "source": [
    "import pandas as pd\n",
    "import numpy as np\n",
    "import seaborn as sns\n",
    "import matplotlib\n",
    "import matplotlib.pyplot as plt\n",
    "import os\n",
    "import sklearn\n",
    "from sklearn.model_selection import train_test_split \n",
    "from sklearn.linear_model import LinearRegression\n",
    "from sklearn.metrics import mean_squared_error, r2_score"
   ]
  },
  {
   "cell_type": "code",
   "execution_count": 3,
   "id": "466b130e",
   "metadata": {},
   "outputs": [],
   "source": [
    "# Display graphs without need to call\n",
    "%matplotlib inline"
   ]
  },
  {
   "cell_type": "code",
   "execution_count": 4,
   "id": "d9de357c",
   "metadata": {},
   "outputs": [],
   "source": [
    "#creating path\n",
    "path = r'/Users/rayruslijunior/04-2022 Munich Airbnb Data Analysis'"
   ]
  },
  {
   "cell_type": "code",
   "execution_count": 5,
   "id": "48b59e9d",
   "metadata": {},
   "outputs": [],
   "source": [
    "#import data\n",
    "df = pd.read_csv(os.path.join(path,'02 Data','Prepared Data','munich_clean2.csv'))"
   ]
  },
  {
   "cell_type": "code",
   "execution_count": 6,
   "id": "35a5dcbc",
   "metadata": {},
   "outputs": [
    {
     "data": {
      "text/html": [
       "<div>\n",
       "<style scoped>\n",
       "    .dataframe tbody tr th:only-of-type {\n",
       "        vertical-align: middle;\n",
       "    }\n",
       "\n",
       "    .dataframe tbody tr th {\n",
       "        vertical-align: top;\n",
       "    }\n",
       "\n",
       "    .dataframe thead th {\n",
       "        text-align: right;\n",
       "    }\n",
       "</style>\n",
       "<table border=\"1\" class=\"dataframe\">\n",
       "  <thead>\n",
       "    <tr style=\"text-align: right;\">\n",
       "      <th></th>\n",
       "      <th>Unnamed: 0</th>\n",
       "      <th>neighbourhood</th>\n",
       "      <th>latitude</th>\n",
       "      <th>longitude</th>\n",
       "      <th>room_type</th>\n",
       "      <th>price</th>\n",
       "      <th>minimum_nights</th>\n",
       "      <th>number_of_reviews</th>\n",
       "      <th>calculated_host_listings_count</th>\n",
       "      <th>availability_365</th>\n",
       "      <th>number_of_reviews_ltm</th>\n",
       "      <th>price_category</th>\n",
       "      <th>rental_term</th>\n",
       "      <th>host_type</th>\n",
       "    </tr>\n",
       "  </thead>\n",
       "  <tbody>\n",
       "    <tr>\n",
       "      <th>0</th>\n",
       "      <td>0</td>\n",
       "      <td>Hadern</td>\n",
       "      <td>48.11492</td>\n",
       "      <td>11.48954</td>\n",
       "      <td>Entire home/apt</td>\n",
       "      <td>80.0</td>\n",
       "      <td>2</td>\n",
       "      <td>129</td>\n",
       "      <td>2</td>\n",
       "      <td>22</td>\n",
       "      <td>0</td>\n",
       "      <td>Middle price</td>\n",
       "      <td>Short term</td>\n",
       "      <td>Commercial host</td>\n",
       "    </tr>\n",
       "    <tr>\n",
       "      <th>1</th>\n",
       "      <td>1</td>\n",
       "      <td>Berg am Laim</td>\n",
       "      <td>48.12071</td>\n",
       "      <td>11.63758</td>\n",
       "      <td>Entire home/apt</td>\n",
       "      <td>95.0</td>\n",
       "      <td>2</td>\n",
       "      <td>53</td>\n",
       "      <td>2</td>\n",
       "      <td>52</td>\n",
       "      <td>0</td>\n",
       "      <td>Middle price</td>\n",
       "      <td>Short term</td>\n",
       "      <td>Commercial host</td>\n",
       "    </tr>\n",
       "    <tr>\n",
       "      <th>2</th>\n",
       "      <td>2</td>\n",
       "      <td>Maxvorstadt</td>\n",
       "      <td>48.15199</td>\n",
       "      <td>11.56482</td>\n",
       "      <td>Entire home/apt</td>\n",
       "      <td>99.0</td>\n",
       "      <td>3</td>\n",
       "      <td>101</td>\n",
       "      <td>1</td>\n",
       "      <td>4</td>\n",
       "      <td>8</td>\n",
       "      <td>Middle price</td>\n",
       "      <td>Short term</td>\n",
       "      <td>Private host</td>\n",
       "    </tr>\n",
       "    <tr>\n",
       "      <th>3</th>\n",
       "      <td>3</td>\n",
       "      <td>Pasing-Obermenzing</td>\n",
       "      <td>48.13855</td>\n",
       "      <td>11.46586</td>\n",
       "      <td>Entire home/apt</td>\n",
       "      <td>52.0</td>\n",
       "      <td>3</td>\n",
       "      <td>34</td>\n",
       "      <td>1</td>\n",
       "      <td>0</td>\n",
       "      <td>0</td>\n",
       "      <td>Low price</td>\n",
       "      <td>Short term</td>\n",
       "      <td>Private host</td>\n",
       "    </tr>\n",
       "    <tr>\n",
       "      <th>4</th>\n",
       "      <td>4</td>\n",
       "      <td>Sendling-Westpark</td>\n",
       "      <td>48.10814</td>\n",
       "      <td>11.52733</td>\n",
       "      <td>Private room</td>\n",
       "      <td>55.0</td>\n",
       "      <td>2</td>\n",
       "      <td>496</td>\n",
       "      <td>1</td>\n",
       "      <td>162</td>\n",
       "      <td>18</td>\n",
       "      <td>Low price</td>\n",
       "      <td>Medium term</td>\n",
       "      <td>Private host</td>\n",
       "    </tr>\n",
       "  </tbody>\n",
       "</table>\n",
       "</div>"
      ],
      "text/plain": [
       "   Unnamed: 0       neighbourhood  latitude  longitude        room_type  \\\n",
       "0           0              Hadern  48.11492   11.48954  Entire home/apt   \n",
       "1           1        Berg am Laim  48.12071   11.63758  Entire home/apt   \n",
       "2           2         Maxvorstadt  48.15199   11.56482  Entire home/apt   \n",
       "3           3  Pasing-Obermenzing  48.13855   11.46586  Entire home/apt   \n",
       "4           4   Sendling-Westpark  48.10814   11.52733     Private room   \n",
       "\n",
       "   price  minimum_nights  number_of_reviews  calculated_host_listings_count  \\\n",
       "0   80.0               2                129                               2   \n",
       "1   95.0               2                 53                               2   \n",
       "2   99.0               3                101                               1   \n",
       "3   52.0               3                 34                               1   \n",
       "4   55.0               2                496                               1   \n",
       "\n",
       "   availability_365  number_of_reviews_ltm price_category  rental_term  \\\n",
       "0                22                      0   Middle price   Short term   \n",
       "1                52                      0   Middle price   Short term   \n",
       "2                 4                      8   Middle price   Short term   \n",
       "3                 0                      0      Low price   Short term   \n",
       "4               162                     18      Low price  Medium term   \n",
       "\n",
       "         host_type  \n",
       "0  Commercial host  \n",
       "1  Commercial host  \n",
       "2     Private host  \n",
       "3     Private host  \n",
       "4     Private host  "
      ]
     },
     "execution_count": 6,
     "metadata": {},
     "output_type": "execute_result"
    }
   ],
   "source": [
    "df.head()"
   ]
  },
  {
   "cell_type": "code",
   "execution_count": 7,
   "id": "a9980b67",
   "metadata": {},
   "outputs": [],
   "source": [
    "# Drop Unnamed\n",
    "df = df.drop(columns = ['Unnamed: 0'])"
   ]
  },
  {
   "cell_type": "code",
   "execution_count": 8,
   "id": "97f90aa5",
   "metadata": {},
   "outputs": [
    {
     "data": {
      "text/html": [
       "<div>\n",
       "<style scoped>\n",
       "    .dataframe tbody tr th:only-of-type {\n",
       "        vertical-align: middle;\n",
       "    }\n",
       "\n",
       "    .dataframe tbody tr th {\n",
       "        vertical-align: top;\n",
       "    }\n",
       "\n",
       "    .dataframe thead th {\n",
       "        text-align: right;\n",
       "    }\n",
       "</style>\n",
       "<table border=\"1\" class=\"dataframe\">\n",
       "  <thead>\n",
       "    <tr style=\"text-align: right;\">\n",
       "      <th></th>\n",
       "      <th>neighbourhood</th>\n",
       "      <th>latitude</th>\n",
       "      <th>longitude</th>\n",
       "      <th>room_type</th>\n",
       "      <th>price</th>\n",
       "      <th>minimum_nights</th>\n",
       "      <th>number_of_reviews</th>\n",
       "      <th>calculated_host_listings_count</th>\n",
       "      <th>availability_365</th>\n",
       "      <th>number_of_reviews_ltm</th>\n",
       "      <th>price_category</th>\n",
       "      <th>rental_term</th>\n",
       "      <th>host_type</th>\n",
       "    </tr>\n",
       "  </thead>\n",
       "  <tbody>\n",
       "    <tr>\n",
       "      <th>0</th>\n",
       "      <td>Hadern</td>\n",
       "      <td>48.11492</td>\n",
       "      <td>11.48954</td>\n",
       "      <td>Entire home/apt</td>\n",
       "      <td>80.0</td>\n",
       "      <td>2</td>\n",
       "      <td>129</td>\n",
       "      <td>2</td>\n",
       "      <td>22</td>\n",
       "      <td>0</td>\n",
       "      <td>Middle price</td>\n",
       "      <td>Short term</td>\n",
       "      <td>Commercial host</td>\n",
       "    </tr>\n",
       "    <tr>\n",
       "      <th>1</th>\n",
       "      <td>Berg am Laim</td>\n",
       "      <td>48.12071</td>\n",
       "      <td>11.63758</td>\n",
       "      <td>Entire home/apt</td>\n",
       "      <td>95.0</td>\n",
       "      <td>2</td>\n",
       "      <td>53</td>\n",
       "      <td>2</td>\n",
       "      <td>52</td>\n",
       "      <td>0</td>\n",
       "      <td>Middle price</td>\n",
       "      <td>Short term</td>\n",
       "      <td>Commercial host</td>\n",
       "    </tr>\n",
       "    <tr>\n",
       "      <th>2</th>\n",
       "      <td>Maxvorstadt</td>\n",
       "      <td>48.15199</td>\n",
       "      <td>11.56482</td>\n",
       "      <td>Entire home/apt</td>\n",
       "      <td>99.0</td>\n",
       "      <td>3</td>\n",
       "      <td>101</td>\n",
       "      <td>1</td>\n",
       "      <td>4</td>\n",
       "      <td>8</td>\n",
       "      <td>Middle price</td>\n",
       "      <td>Short term</td>\n",
       "      <td>Private host</td>\n",
       "    </tr>\n",
       "    <tr>\n",
       "      <th>3</th>\n",
       "      <td>Pasing-Obermenzing</td>\n",
       "      <td>48.13855</td>\n",
       "      <td>11.46586</td>\n",
       "      <td>Entire home/apt</td>\n",
       "      <td>52.0</td>\n",
       "      <td>3</td>\n",
       "      <td>34</td>\n",
       "      <td>1</td>\n",
       "      <td>0</td>\n",
       "      <td>0</td>\n",
       "      <td>Low price</td>\n",
       "      <td>Short term</td>\n",
       "      <td>Private host</td>\n",
       "    </tr>\n",
       "    <tr>\n",
       "      <th>4</th>\n",
       "      <td>Sendling-Westpark</td>\n",
       "      <td>48.10814</td>\n",
       "      <td>11.52733</td>\n",
       "      <td>Private room</td>\n",
       "      <td>55.0</td>\n",
       "      <td>2</td>\n",
       "      <td>496</td>\n",
       "      <td>1</td>\n",
       "      <td>162</td>\n",
       "      <td>18</td>\n",
       "      <td>Low price</td>\n",
       "      <td>Medium term</td>\n",
       "      <td>Private host</td>\n",
       "    </tr>\n",
       "  </tbody>\n",
       "</table>\n",
       "</div>"
      ],
      "text/plain": [
       "        neighbourhood  latitude  longitude        room_type  price  \\\n",
       "0              Hadern  48.11492   11.48954  Entire home/apt   80.0   \n",
       "1        Berg am Laim  48.12071   11.63758  Entire home/apt   95.0   \n",
       "2         Maxvorstadt  48.15199   11.56482  Entire home/apt   99.0   \n",
       "3  Pasing-Obermenzing  48.13855   11.46586  Entire home/apt   52.0   \n",
       "4   Sendling-Westpark  48.10814   11.52733     Private room   55.0   \n",
       "\n",
       "   minimum_nights  number_of_reviews  calculated_host_listings_count  \\\n",
       "0               2                129                               2   \n",
       "1               2                 53                               2   \n",
       "2               3                101                               1   \n",
       "3               3                 34                               1   \n",
       "4               2                496                               1   \n",
       "\n",
       "   availability_365  number_of_reviews_ltm price_category  rental_term  \\\n",
       "0                22                      0   Middle price   Short term   \n",
       "1                52                      0   Middle price   Short term   \n",
       "2                 4                      8   Middle price   Short term   \n",
       "3                 0                      0      Low price   Short term   \n",
       "4               162                     18      Low price  Medium term   \n",
       "\n",
       "         host_type  \n",
       "0  Commercial host  \n",
       "1  Commercial host  \n",
       "2     Private host  \n",
       "3     Private host  \n",
       "4     Private host  "
      ]
     },
     "execution_count": 8,
     "metadata": {},
     "output_type": "execute_result"
    }
   ],
   "source": [
    "df.head()"
   ]
  },
  {
   "cell_type": "code",
   "execution_count": 9,
   "id": "848b5325",
   "metadata": {},
   "outputs": [
    {
     "data": {
      "text/plain": [
       "(4995, 13)"
      ]
     },
     "execution_count": 9,
     "metadata": {},
     "output_type": "execute_result"
    }
   ],
   "source": [
    "df.shape"
   ]
  },
  {
   "cell_type": "markdown",
   "id": "752368ad",
   "metadata": {},
   "source": [
    "__02.Wrangle and Clean Data__"
   ]
  },
  {
   "cell_type": "code",
   "execution_count": 10,
   "id": "6592b696",
   "metadata": {},
   "outputs": [
    {
     "data": {
      "text/plain": [
       "Index(['neighbourhood', 'latitude', 'longitude', 'room_type', 'price',\n",
       "       'minimum_nights', 'number_of_reviews', 'calculated_host_listings_count',\n",
       "       'availability_365', 'number_of_reviews_ltm', 'price_category',\n",
       "       'rental_term', 'host_type'],\n",
       "      dtype='object')"
      ]
     },
     "execution_count": 10,
     "metadata": {},
     "output_type": "execute_result"
    }
   ],
   "source": [
    "# Check columns\n",
    "df.columns"
   ]
  },
  {
   "cell_type": "code",
   "execution_count": 11,
   "id": "19bcea92",
   "metadata": {},
   "outputs": [
    {
     "data": {
      "text/plain": [
       "neighbourhood                     0\n",
       "latitude                          0\n",
       "longitude                         0\n",
       "room_type                         0\n",
       "price                             0\n",
       "minimum_nights                    0\n",
       "number_of_reviews                 0\n",
       "calculated_host_listings_count    0\n",
       "availability_365                  0\n",
       "number_of_reviews_ltm             0\n",
       "price_category                    0\n",
       "rental_term                       0\n",
       "host_type                         0\n",
       "dtype: int64"
      ]
     },
     "execution_count": 11,
     "metadata": {},
     "output_type": "execute_result"
    }
   ],
   "source": [
    "# Check for missings\n",
    "df.isnull().sum()"
   ]
  },
  {
   "cell_type": "markdown",
   "id": "bd3dd3f7",
   "metadata": {},
   "source": [
    "there is no missing value"
   ]
  },
  {
   "cell_type": "code",
   "execution_count": 12,
   "id": "7171be82",
   "metadata": {},
   "outputs": [],
   "source": [
    "#Checking for duplicate\n",
    "dups = df.duplicated()"
   ]
  },
  {
   "cell_type": "code",
   "execution_count": 13,
   "id": "42c5efb8",
   "metadata": {},
   "outputs": [
    {
     "data": {
      "text/plain": [
       "(4995,)"
      ]
     },
     "execution_count": 13,
     "metadata": {},
     "output_type": "execute_result"
    }
   ],
   "source": [
    "dups.shape\n",
    "#no duplicate"
   ]
  },
  {
   "cell_type": "markdown",
   "id": "95b33720",
   "metadata": {},
   "source": [
    "__03. Extreme Value Check__"
   ]
  },
  {
   "cell_type": "code",
   "execution_count": 14,
   "id": "9652bb65",
   "metadata": {},
   "outputs": [
    {
     "name": "stderr",
     "output_type": "stream",
     "text": [
      "/Users/rayruslijunior/opt/anaconda3/lib/python3.8/site-packages/seaborn/distributions.py:2619: FutureWarning: `distplot` is a deprecated function and will be removed in a future version. Please adapt your code to use either `displot` (a figure-level function with similar flexibility) or `histplot` (an axes-level function for histograms).\n",
      "  warnings.warn(msg, FutureWarning)\n"
     ]
    },
    {
     "data": {
      "text/plain": [
       "<AxesSubplot:xlabel='price', ylabel='Density'>"
      ]
     },
     "execution_count": 14,
     "metadata": {},
     "output_type": "execute_result"
    },
    {
     "data": {
      "image/png": "[encoded data removed]",
      "text/plain": [
       "<Figure size 432x288 with 1 Axes>"
      ]
     },
     "metadata": {
      "needs_background": "light"
     },
     "output_type": "display_data"
    }
   ],
   "source": [
    "sns.distplot(df['price'], bins=25) # Shows extreme values\n",
    "\n",
    "# Some of the outliers in the high values may need to be removed, but let's try without doing so first."
   ]
  },
  {
   "cell_type": "code",
   "execution_count": 14,
   "id": "dd2b3403",
   "metadata": {},
   "outputs": [
    {
     "data": {
      "text/html": [
       "<div>\n",
       "<style scoped>\n",
       "    .dataframe tbody tr th:only-of-type {\n",
       "        vertical-align: middle;\n",
       "    }\n",
       "\n",
       "    .dataframe tbody tr th {\n",
       "        vertical-align: top;\n",
       "    }\n",
       "\n",
       "    .dataframe thead th {\n",
       "        text-align: right;\n",
       "    }\n",
       "</style>\n",
       "<table border=\"1\" class=\"dataframe\">\n",
       "  <thead>\n",
       "    <tr style=\"text-align: right;\">\n",
       "      <th></th>\n",
       "      <th>latitude</th>\n",
       "      <th>longitude</th>\n",
       "      <th>price</th>\n",
       "      <th>minimum_nights</th>\n",
       "      <th>number_of_reviews</th>\n",
       "      <th>calculated_host_listings_count</th>\n",
       "      <th>availability_365</th>\n",
       "      <th>number_of_reviews_ltm</th>\n",
       "    </tr>\n",
       "  </thead>\n",
       "  <tbody>\n",
       "    <tr>\n",
       "      <th>count</th>\n",
       "      <td>4995.000000</td>\n",
       "      <td>4995.000000</td>\n",
       "      <td>4995.000000</td>\n",
       "      <td>4995.000000</td>\n",
       "      <td>4995.000000</td>\n",
       "      <td>4995.000000</td>\n",
       "      <td>4995.000000</td>\n",
       "      <td>4995.000000</td>\n",
       "    </tr>\n",
       "    <tr>\n",
       "      <th>mean</th>\n",
       "      <td>48.140613</td>\n",
       "      <td>11.565088</td>\n",
       "      <td>118.425288</td>\n",
       "      <td>9.006807</td>\n",
       "      <td>22.338138</td>\n",
       "      <td>2.559159</td>\n",
       "      <td>135.479680</td>\n",
       "      <td>3.485686</td>\n",
       "    </tr>\n",
       "    <tr>\n",
       "      <th>std</th>\n",
       "      <td>0.025502</td>\n",
       "      <td>0.047024</td>\n",
       "      <td>220.480379</td>\n",
       "      <td>31.415472</td>\n",
       "      <td>55.676039</td>\n",
       "      <td>4.541520</td>\n",
       "      <td>136.233306</td>\n",
       "      <td>12.682482</td>\n",
       "    </tr>\n",
       "    <tr>\n",
       "      <th>min</th>\n",
       "      <td>48.068870</td>\n",
       "      <td>11.366801</td>\n",
       "      <td>9.000000</td>\n",
       "      <td>1.000000</td>\n",
       "      <td>0.000000</td>\n",
       "      <td>1.000000</td>\n",
       "      <td>0.000000</td>\n",
       "      <td>0.000000</td>\n",
       "    </tr>\n",
       "    <tr>\n",
       "      <th>25%</th>\n",
       "      <td>48.123745</td>\n",
       "      <td>11.540435</td>\n",
       "      <td>55.000000</td>\n",
       "      <td>1.000000</td>\n",
       "      <td>1.000000</td>\n",
       "      <td>1.000000</td>\n",
       "      <td>0.000000</td>\n",
       "      <td>0.000000</td>\n",
       "    </tr>\n",
       "    <tr>\n",
       "      <th>50%</th>\n",
       "      <td>48.137520</td>\n",
       "      <td>11.565530</td>\n",
       "      <td>81.000000</td>\n",
       "      <td>2.000000</td>\n",
       "      <td>4.000000</td>\n",
       "      <td>1.000000</td>\n",
       "      <td>88.000000</td>\n",
       "      <td>0.000000</td>\n",
       "    </tr>\n",
       "    <tr>\n",
       "      <th>75%</th>\n",
       "      <td>48.157410</td>\n",
       "      <td>11.586970</td>\n",
       "      <td>125.000000</td>\n",
       "      <td>5.000000</td>\n",
       "      <td>17.000000</td>\n",
       "      <td>2.000000</td>\n",
       "      <td>268.000000</td>\n",
       "      <td>2.000000</td>\n",
       "    </tr>\n",
       "    <tr>\n",
       "      <th>max</th>\n",
       "      <td>48.229500</td>\n",
       "      <td>11.711980</td>\n",
       "      <td>8000.000000</td>\n",
       "      <td>1000.000000</td>\n",
       "      <td>765.000000</td>\n",
       "      <td>33.000000</td>\n",
       "      <td>365.000000</td>\n",
       "      <td>450.000000</td>\n",
       "    </tr>\n",
       "  </tbody>\n",
       "</table>\n",
       "</div>"
      ],
      "text/plain": [
       "          latitude    longitude        price  minimum_nights  \\\n",
       "count  4995.000000  4995.000000  4995.000000     4995.000000   \n",
       "mean     48.140613    11.565088   118.425288        9.006807   \n",
       "std       0.025502     0.047024   220.480379       31.415472   \n",
       "min      48.068870    11.366801     9.000000        1.000000   \n",
       "25%      48.123745    11.540435    55.000000        1.000000   \n",
       "50%      48.137520    11.565530    81.000000        2.000000   \n",
       "75%      48.157410    11.586970   125.000000        5.000000   \n",
       "max      48.229500    11.711980  8000.000000     1000.000000   \n",
       "\n",
       "       number_of_reviews  calculated_host_listings_count  availability_365  \\\n",
       "count        4995.000000                     4995.000000       4995.000000   \n",
       "mean           22.338138                        2.559159        135.479680   \n",
       "std            55.676039                        4.541520        136.233306   \n",
       "min             0.000000                        1.000000          0.000000   \n",
       "25%             1.000000                        1.000000          0.000000   \n",
       "50%             4.000000                        1.000000         88.000000   \n",
       "75%            17.000000                        2.000000        268.000000   \n",
       "max           765.000000                       33.000000        365.000000   \n",
       "\n",
       "       number_of_reviews_ltm  \n",
       "count            4995.000000  \n",
       "mean                3.485686  \n",
       "std                12.682482  \n",
       "min                 0.000000  \n",
       "25%                 0.000000  \n",
       "50%                 0.000000  \n",
       "75%                 2.000000  \n",
       "max               450.000000  "
      ]
     },
     "execution_count": 14,
     "metadata": {},
     "output_type": "execute_result"
    }
   ],
   "source": [
    "df.describe()"
   ]
  },
  {
   "cell_type": "markdown",
   "id": "b87def5b",
   "metadata": {},
   "source": [
    "__04. Exploring Data Visually - Deciding on which Relationship I would like to test__"
   ]
  },
  {
   "cell_type": "code",
   "execution_count": 15,
   "id": "beb8aba3",
   "metadata": {},
   "outputs": [
    {
     "data": {
      "image/png": "[encoded data removed]",
      "text/plain": [
       "<Figure size 432x288 with 1 Axes>"
      ]
     },
     "metadata": {
      "needs_background": "light"
     },
     "output_type": "display_data"
    }
   ],
   "source": [
    "# Create scatter plot price vs calculated_host_listings_count\n",
    "df.plot(x = 'calculated_host_listings_count', y='price',style='o')\n",
    "plt.title('price vs count of host listing')  \n",
    "plt.xlabel('Count of host listings')  \n",
    "plt.ylabel('Price')  \n",
    "plt.show()"
   ]
  },
  {
   "cell_type": "code",
   "execution_count": 16,
   "id": "d4285248",
   "metadata": {},
   "outputs": [
    {
     "data": {
      "image/png": "[encoded data removed]",
      "text/plain": [
       "<Figure size 432x288 with 1 Axes>"
      ]
     },
     "metadata": {
      "needs_background": "light"
     },
     "output_type": "display_data"
    }
   ],
   "source": [
    "# Create scatterplot minimum_nights vs price\n",
    "\n",
    "df.plot(x = 'minimum_nights', y='price',style='o')\n",
    "plt.title('Minimum_nights vs price per night')  \n",
    "plt.xlabel('Minimum nights')  \n",
    "plt.ylabel('Price per night')  \n",
    "plt.show()"
   ]
  },
  {
   "cell_type": "code",
   "execution_count": 15,
   "id": "3a14fa77",
   "metadata": {},
   "outputs": [
    {
     "data": {
      "image/png": "[encoded data removed]",
      "text/plain": [
       "<Figure size 432x288 with 1 Axes>"
      ]
     },
     "metadata": {
      "needs_background": "light"
     },
     "output_type": "display_data"
    }
   ],
   "source": [
    "# Create scatterplot minimum_nights vs price\n",
    "\n",
    "df.plot(x = 'availability_365', y='price',style='o')\n",
    "plt.title('availability 365 vs price ')  \n",
    "plt.xlabel('availability 365')  \n",
    "plt.ylabel('Price')  \n",
    "plt.show()"
   ]
  },
  {
   "cell_type": "markdown",
   "id": "7ed3ad50",
   "metadata": {},
   "source": [
    "I would go ahead with count vs price of listing. as well availability 365 vs price"
   ]
  },
  {
   "cell_type": "markdown",
   "id": "25e8a055",
   "metadata": {},
   "source": [
    "__calculated_host_listing_count vs Price__"
   ]
  },
  {
   "cell_type": "code",
   "execution_count": 17,
   "id": "ee79fa33",
   "metadata": {},
   "outputs": [],
   "source": [
    "# Reshape the variables, put them into separate objects.\n",
    "\n",
    "X = df['calculated_host_listings_count'].values.reshape(-1,1)\n",
    "y = df['price'].values.reshape(-1,1)"
   ]
  },
  {
   "cell_type": "code",
   "execution_count": 18,
   "id": "bfcaceae",
   "metadata": {},
   "outputs": [
    {
     "data": {
      "text/plain": [
       "array([[2],\n",
       "       [2],\n",
       "       [1],\n",
       "       ...,\n",
       "       [2],\n",
       "       [1],\n",
       "       [2]])"
      ]
     },
     "execution_count": 18,
     "metadata": {},
     "output_type": "execute_result"
    }
   ],
   "source": [
    "X"
   ]
  },
  {
   "cell_type": "code",
   "execution_count": 19,
   "id": "078ee5df",
   "metadata": {},
   "outputs": [
    {
     "data": {
      "text/plain": [
       "array([[ 80.],\n",
       "       [ 95.],\n",
       "       [ 99.],\n",
       "       ...,\n",
       "       [ 35.],\n",
       "       [124.],\n",
       "       [ 77.]])"
      ]
     },
     "execution_count": 19,
     "metadata": {},
     "output_type": "execute_result"
    }
   ],
   "source": [
    "y"
   ]
  },
  {
   "cell_type": "code",
   "execution_count": 20,
   "id": "9c544afe",
   "metadata": {},
   "outputs": [],
   "source": [
    "# Split into training and test set\n",
    "X_train, X_test, y_train, y_test = train_test_split(X, y, test_size=0.3, random_state=0)"
   ]
  },
  {
   "cell_type": "markdown",
   "id": "d47a76e2",
   "metadata": {},
   "source": [
    "__5.Regression Analysis__"
   ]
  },
  {
   "cell_type": "code",
   "execution_count": 21,
   "id": "e2d6a8d1",
   "metadata": {},
   "outputs": [],
   "source": [
    "# Create regression object\n",
    "regression = LinearRegression()"
   ]
  },
  {
   "cell_type": "code",
   "execution_count": 22,
   "id": "6b11e47e",
   "metadata": {},
   "outputs": [
    {
     "data": {
      "text/plain": [
       "LinearRegression()"
      ]
     },
     "execution_count": 22,
     "metadata": {},
     "output_type": "execute_result"
    }
   ],
   "source": [
    "# Fit it onto training set\n",
    "regression.fit(X_train, y_train)"
   ]
  },
  {
   "cell_type": "code",
   "execution_count": 23,
   "id": "25f7fb71",
   "metadata": {},
   "outputs": [],
   "source": [
    "# Use trained regression object to predict y using X in test set \n",
    "y_predicted = regression.predict(X_test)"
   ]
  },
  {
   "cell_type": "code",
   "execution_count": 24,
   "id": "4ff97f8f",
   "metadata": {},
   "outputs": [
    {
     "data": {
      "image/png": "[encoded data removed]",
      "text/plain": [
       "<Figure size 432x288 with 1 Axes>"
      ]
     },
     "metadata": {
      "needs_background": "light"
     },
     "output_type": "display_data"
    }
   ],
   "source": [
    "# Create plot showing regression line (results) from the model on the test set\n",
    "\n",
    "plot_test = plt\n",
    "plot_test.scatter(X_test, y_test, color='gray', s = 15)\n",
    "plot_test.plot(X_test, y_predicted, color='red', linewidth =3)\n",
    "plot_test.title('Count of host listings vs Price (Test set)')\n",
    "plot_test.xlabel('Count of host listings')\n",
    "plot_test.ylabel('Price')\n",
    "plot_test.show()"
   ]
  },
  {
   "cell_type": "code",
   "execution_count": 25,
   "id": "39f5514a",
   "metadata": {},
   "outputs": [],
   "source": [
    "# Create objects that contain model summary statistics\n",
    "\n",
    "rmse = mean_squared_error(y_test, y_predicted)\n",
    "r2 = r2_score(y_test, y_predicted)"
   ]
  },
  {
   "cell_type": "code",
   "execution_count": 26,
   "id": "61965de6",
   "metadata": {},
   "outputs": [
    {
     "name": "stdout",
     "output_type": "stream",
     "text": [
      "Slope: [[0.00766812]]\n",
      "Mean squared error:  92861.80142719926\n",
      "R2 score:  -0.0001502890452689254\n"
     ]
    }
   ],
   "source": [
    "# Check model summary statistics to evaluate performance of model\n",
    "\n",
    "print('Slope:' ,regression.coef_)\n",
    "print('Mean squared error: ', rmse)\n",
    "print('R2 score: ', r2)"
   ]
  },
  {
   "cell_type": "markdown",
   "id": "1bcf3179",
   "metadata": {},
   "source": [
    "We have a positive slope coefficent (0.007) which indicate that as X (Count of host listings) increases, y (Price) also increases.\n",
    "\n",
    "The MSE is too high, which says that the line is not accurate\n",
    "\n",
    "The R2 score is low and negative which means a poor fit of the model. The linear relationship between the variables is as expected not strong, so a non-linear model to test this relationship would be a better fit."
   ]
  },
  {
   "cell_type": "code",
   "execution_count": 27,
   "id": "f730b0e6",
   "metadata": {},
   "outputs": [
    {
     "data": {
      "text/html": [
       "<div>\n",
       "<style scoped>\n",
       "    .dataframe tbody tr th:only-of-type {\n",
       "        vertical-align: middle;\n",
       "    }\n",
       "\n",
       "    .dataframe tbody tr th {\n",
       "        vertical-align: top;\n",
       "    }\n",
       "\n",
       "    .dataframe thead th {\n",
       "        text-align: right;\n",
       "    }\n",
       "</style>\n",
       "<table border=\"1\" class=\"dataframe\">\n",
       "  <thead>\n",
       "    <tr style=\"text-align: right;\">\n",
       "      <th></th>\n",
       "      <th>Actual</th>\n",
       "      <th>Predicted</th>\n",
       "    </tr>\n",
       "  </thead>\n",
       "  <tbody>\n",
       "    <tr>\n",
       "      <th>0</th>\n",
       "      <td>120.0</td>\n",
       "      <td>117.289327</td>\n",
       "    </tr>\n",
       "    <tr>\n",
       "      <th>1</th>\n",
       "      <td>130.0</td>\n",
       "      <td>117.289327</td>\n",
       "    </tr>\n",
       "    <tr>\n",
       "      <th>2</th>\n",
       "      <td>230.0</td>\n",
       "      <td>117.289327</td>\n",
       "    </tr>\n",
       "    <tr>\n",
       "      <th>3</th>\n",
       "      <td>183.0</td>\n",
       "      <td>117.327668</td>\n",
       "    </tr>\n",
       "    <tr>\n",
       "      <th>4</th>\n",
       "      <td>89.0</td>\n",
       "      <td>117.296995</td>\n",
       "    </tr>\n",
       "    <tr>\n",
       "      <th>5</th>\n",
       "      <td>163.0</td>\n",
       "      <td>117.289327</td>\n",
       "    </tr>\n",
       "    <tr>\n",
       "      <th>6</th>\n",
       "      <td>72.0</td>\n",
       "      <td>117.481030</td>\n",
       "    </tr>\n",
       "    <tr>\n",
       "      <th>7</th>\n",
       "      <td>800.0</td>\n",
       "      <td>117.335336</td>\n",
       "    </tr>\n",
       "    <tr>\n",
       "      <th>8</th>\n",
       "      <td>53.0</td>\n",
       "      <td>117.289327</td>\n",
       "    </tr>\n",
       "    <tr>\n",
       "      <th>9</th>\n",
       "      <td>96.0</td>\n",
       "      <td>117.289327</td>\n",
       "    </tr>\n",
       "    <tr>\n",
       "      <th>10</th>\n",
       "      <td>400.0</td>\n",
       "      <td>117.289327</td>\n",
       "    </tr>\n",
       "    <tr>\n",
       "      <th>11</th>\n",
       "      <td>32.0</td>\n",
       "      <td>117.320000</td>\n",
       "    </tr>\n",
       "    <tr>\n",
       "      <th>12</th>\n",
       "      <td>48.0</td>\n",
       "      <td>117.304664</td>\n",
       "    </tr>\n",
       "    <tr>\n",
       "      <th>13</th>\n",
       "      <td>50.0</td>\n",
       "      <td>117.296995</td>\n",
       "    </tr>\n",
       "    <tr>\n",
       "      <th>14</th>\n",
       "      <td>107.0</td>\n",
       "      <td>117.312332</td>\n",
       "    </tr>\n",
       "    <tr>\n",
       "      <th>15</th>\n",
       "      <td>189.0</td>\n",
       "      <td>117.289327</td>\n",
       "    </tr>\n",
       "    <tr>\n",
       "      <th>16</th>\n",
       "      <td>85.0</td>\n",
       "      <td>117.289327</td>\n",
       "    </tr>\n",
       "    <tr>\n",
       "      <th>17</th>\n",
       "      <td>600.0</td>\n",
       "      <td>117.289327</td>\n",
       "    </tr>\n",
       "    <tr>\n",
       "      <th>18</th>\n",
       "      <td>49.0</td>\n",
       "      <td>117.296995</td>\n",
       "    </tr>\n",
       "    <tr>\n",
       "      <th>19</th>\n",
       "      <td>108.0</td>\n",
       "      <td>117.289327</td>\n",
       "    </tr>\n",
       "    <tr>\n",
       "      <th>20</th>\n",
       "      <td>75.0</td>\n",
       "      <td>117.289327</td>\n",
       "    </tr>\n",
       "    <tr>\n",
       "      <th>21</th>\n",
       "      <td>59.0</td>\n",
       "      <td>117.289327</td>\n",
       "    </tr>\n",
       "    <tr>\n",
       "      <th>22</th>\n",
       "      <td>171.0</td>\n",
       "      <td>117.481030</td>\n",
       "    </tr>\n",
       "    <tr>\n",
       "      <th>23</th>\n",
       "      <td>59.0</td>\n",
       "      <td>117.320000</td>\n",
       "    </tr>\n",
       "    <tr>\n",
       "      <th>24</th>\n",
       "      <td>179.0</td>\n",
       "      <td>117.289327</td>\n",
       "    </tr>\n",
       "    <tr>\n",
       "      <th>25</th>\n",
       "      <td>26.0</td>\n",
       "      <td>117.304664</td>\n",
       "    </tr>\n",
       "    <tr>\n",
       "      <th>26</th>\n",
       "      <td>60.0</td>\n",
       "      <td>117.289327</td>\n",
       "    </tr>\n",
       "    <tr>\n",
       "      <th>27</th>\n",
       "      <td>50.0</td>\n",
       "      <td>117.289327</td>\n",
       "    </tr>\n",
       "    <tr>\n",
       "      <th>28</th>\n",
       "      <td>95.0</td>\n",
       "      <td>117.289327</td>\n",
       "    </tr>\n",
       "    <tr>\n",
       "      <th>29</th>\n",
       "      <td>60.0</td>\n",
       "      <td>117.289327</td>\n",
       "    </tr>\n",
       "  </tbody>\n",
       "</table>\n",
       "</div>"
      ],
      "text/plain": [
       "    Actual   Predicted\n",
       "0    120.0  117.289327\n",
       "1    130.0  117.289327\n",
       "2    230.0  117.289327\n",
       "3    183.0  117.327668\n",
       "4     89.0  117.296995\n",
       "5    163.0  117.289327\n",
       "6     72.0  117.481030\n",
       "7    800.0  117.335336\n",
       "8     53.0  117.289327\n",
       "9     96.0  117.289327\n",
       "10   400.0  117.289327\n",
       "11    32.0  117.320000\n",
       "12    48.0  117.304664\n",
       "13    50.0  117.296995\n",
       "14   107.0  117.312332\n",
       "15   189.0  117.289327\n",
       "16    85.0  117.289327\n",
       "17   600.0  117.289327\n",
       "18    49.0  117.296995\n",
       "19   108.0  117.289327\n",
       "20    75.0  117.289327\n",
       "21    59.0  117.289327\n",
       "22   171.0  117.481030\n",
       "23    59.0  117.320000\n",
       "24   179.0  117.289327\n",
       "25    26.0  117.304664\n",
       "26    60.0  117.289327\n",
       "27    50.0  117.289327\n",
       "28    95.0  117.289327\n",
       "29    60.0  117.289327"
      ]
     },
     "execution_count": 27,
     "metadata": {},
     "output_type": "execute_result"
    }
   ],
   "source": [
    "# Create a dataframe to compare the actual and predicted values of y\n",
    "\n",
    "data = pd.DataFrame({'Actual': y_test.flatten(), 'Predicted': y_predicted.flatten()})\n",
    "data.head(30)"
   ]
  },
  {
   "cell_type": "code",
   "execution_count": 28,
   "id": "50637f46",
   "metadata": {},
   "outputs": [],
   "source": [
    "# Compare how regression fits training set. How well does model predict y in the training set?\n",
    "y_predicted_train = regression.predict(X_train)"
   ]
  },
  {
   "cell_type": "code",
   "execution_count": 29,
   "id": "5f8846bb",
   "metadata": {},
   "outputs": [],
   "source": [
    "rmse = mean_squared_error(y_train, y_predicted_train)\n",
    "r2 = r2_score(y_train, y_predicted_train)"
   ]
  },
  {
   "cell_type": "code",
   "execution_count": 30,
   "id": "75aa936e",
   "metadata": {},
   "outputs": [
    {
     "name": "stdout",
     "output_type": "stream",
     "text": [
      "Slope: [[0.00766812]]\n",
      "Mean squared error:  29626.052803698884\n",
      "R2 score:  4.351213611641924e-08\n"
     ]
    }
   ],
   "source": [
    "print('Slope:' ,regression.coef_)\n",
    "print('Mean squared error: ', rmse)\n",
    "print('R2 score: ', r2)"
   ]
  },
  {
   "cell_type": "markdown",
   "id": "5b95ace5",
   "metadata": {},
   "source": [
    "On the training set, the result is not good either. MSE remains high and the R2 score although not negative anymore but remains very low low."
   ]
  },
  {
   "cell_type": "code",
   "execution_count": 31,
   "id": "51b1b779",
   "metadata": {},
   "outputs": [
    {
     "data": {
      "image/png": "[encoded data removed]",
      "text/plain": [
       "<Figure size 432x288 with 1 Axes>"
      ]
     },
     "metadata": {
      "needs_background": "light"
     },
     "output_type": "display_data"
    }
   ],
   "source": [
    "# Visualize it\n",
    "\n",
    "plot_test = plt\n",
    "plot_test.scatter(X_train, y_train, color='green', s = 15)\n",
    "plot_test.plot(X_train, y_predicted_train, color='red', linewidth =3)\n",
    "plot_test.title('Count of host listings vs price (Test set)')\n",
    "plot_test.xlabel('Count of host listings')\n",
    "plot_test.ylabel('Price')\n",
    "plot_test.show()"
   ]
  },
  {
   "cell_type": "markdown",
   "id": "be216640",
   "metadata": {},
   "source": [
    "__availability 365 vs price__"
   ]
  },
  {
   "cell_type": "code",
   "execution_count": 16,
   "id": "07908435",
   "metadata": {},
   "outputs": [],
   "source": [
    "# Reshape the variables, put them into separate objects.\n",
    "\n",
    "X = df['availability_365'].values.reshape(-1,1)\n",
    "y = df['price'].values.reshape(-1,1)"
   ]
  },
  {
   "cell_type": "code",
   "execution_count": 17,
   "id": "daa12d49",
   "metadata": {},
   "outputs": [
    {
     "data": {
      "text/plain": [
       "array([[ 22],\n",
       "       [ 52],\n",
       "       [  4],\n",
       "       ...,\n",
       "       [365],\n",
       "       [ 65],\n",
       "       [  7]])"
      ]
     },
     "execution_count": 17,
     "metadata": {},
     "output_type": "execute_result"
    }
   ],
   "source": [
    "X"
   ]
  },
  {
   "cell_type": "code",
   "execution_count": 18,
   "id": "7fede035",
   "metadata": {},
   "outputs": [
    {
     "data": {
      "text/plain": [
       "array([[ 80.],\n",
       "       [ 95.],\n",
       "       [ 99.],\n",
       "       ...,\n",
       "       [ 35.],\n",
       "       [124.],\n",
       "       [ 77.]])"
      ]
     },
     "execution_count": 18,
     "metadata": {},
     "output_type": "execute_result"
    }
   ],
   "source": [
    "y"
   ]
  },
  {
   "cell_type": "code",
   "execution_count": 19,
   "id": "32e7289e",
   "metadata": {},
   "outputs": [],
   "source": [
    "# Split into training and test set\n",
    "X_train, X_test, y_train, y_test = train_test_split(X, y, test_size=0.3, random_state=0)"
   ]
  },
  {
   "cell_type": "markdown",
   "id": "8d711d8b",
   "metadata": {},
   "source": [
    "__Regression Analysis__"
   ]
  },
  {
   "cell_type": "code",
   "execution_count": 20,
   "id": "94fccd13",
   "metadata": {},
   "outputs": [],
   "source": [
    "# Create regression object\n",
    "regression = LinearRegression()"
   ]
  },
  {
   "cell_type": "code",
   "execution_count": 21,
   "id": "3ed38f10",
   "metadata": {},
   "outputs": [
    {
     "data": {
      "text/plain": [
       "LinearRegression()"
      ]
     },
     "execution_count": 21,
     "metadata": {},
     "output_type": "execute_result"
    }
   ],
   "source": [
    "# Fit it onto training set\n",
    "regression.fit(X_train, y_train)"
   ]
  },
  {
   "cell_type": "code",
   "execution_count": 22,
   "id": "c1d9b63a",
   "metadata": {},
   "outputs": [],
   "source": [
    "# Use trained regression object to predict y using X in test set \n",
    "y_predicted = regression.predict(X_test)"
   ]
  },
  {
   "cell_type": "code",
   "execution_count": 23,
   "id": "c89c86dd",
   "metadata": {},
   "outputs": [
    {
     "data": {
      "image/png": "[encoded data removed]",
      "text/plain": [
       "<Figure size 432x288 with 1 Axes>"
      ]
     },
     "metadata": {
      "needs_background": "light"
     },
     "output_type": "display_data"
    }
   ],
   "source": [
    "# Create plot showing regression line (results) from the model on the test set\n",
    "\n",
    "plot_test = plt\n",
    "plot_test.scatter(X_test, y_test, color='gray', s = 15)\n",
    "plot_test.plot(X_test, y_predicted, color='red', linewidth =3)\n",
    "plot_test.title('Availability_365 vs Price (Test set)')\n",
    "plot_test.xlabel('Availability_365')\n",
    "plot_test.ylabel('Price')\n",
    "plot_test.show()"
   ]
  },
  {
   "cell_type": "code",
   "execution_count": 24,
   "id": "7faecbb3",
   "metadata": {},
   "outputs": [],
   "source": [
    "# Create objects that contain model summary statistics\n",
    "\n",
    "rmse = mean_squared_error(y_test, y_predicted)\n",
    "r2 = r2_score(y_test, y_predicted)"
   ]
  },
  {
   "cell_type": "code",
   "execution_count": 25,
   "id": "d9a4fa54",
   "metadata": {},
   "outputs": [
    {
     "name": "stdout",
     "output_type": "stream",
     "text": [
      "Slope: [[0.11639126]]\n",
      "Mean squared error:  92810.37737604641\n",
      "R2 score:  0.00040356387201168076\n"
     ]
    }
   ],
   "source": [
    "# Check model summary statistics to evaluate performance of model\n",
    "\n",
    "print('Slope:' ,regression.coef_)\n",
    "print('Mean squared error: ', rmse)\n",
    "print('R2 score: ', r2)"
   ]
  },
  {
   "cell_type": "markdown",
   "id": "147668f2",
   "metadata": {},
   "source": [
    "We have a positive slope coefficent (0.11) which indicate that as X (Count of host listings) increases, y (Price) also increases.\n",
    "\n",
    "The MSE is too high, which says that the line is not accurate\n",
    "\n",
    "The R2 score is low  which mean it is a poor fit of the model. The linear relationship between the variables is as expected not strong, so a non-linear model to test this relationship would be a better fit."
   ]
  },
  {
   "cell_type": "code",
   "execution_count": 26,
   "id": "066a755f",
   "metadata": {},
   "outputs": [
    {
     "data": {
      "text/html": [
       "<div>\n",
       "<style scoped>\n",
       "    .dataframe tbody tr th:only-of-type {\n",
       "        vertical-align: middle;\n",
       "    }\n",
       "\n",
       "    .dataframe tbody tr th {\n",
       "        vertical-align: top;\n",
       "    }\n",
       "\n",
       "    .dataframe thead th {\n",
       "        text-align: right;\n",
       "    }\n",
       "</style>\n",
       "<table border=\"1\" class=\"dataframe\">\n",
       "  <thead>\n",
       "    <tr style=\"text-align: right;\">\n",
       "      <th></th>\n",
       "      <th>Actual</th>\n",
       "      <th>Predicted</th>\n",
       "    </tr>\n",
       "  </thead>\n",
       "  <tbody>\n",
       "    <tr>\n",
       "      <th>0</th>\n",
       "      <td>120.0</td>\n",
       "      <td>101.545396</td>\n",
       "    </tr>\n",
       "    <tr>\n",
       "      <th>1</th>\n",
       "      <td>130.0</td>\n",
       "      <td>123.194171</td>\n",
       "    </tr>\n",
       "    <tr>\n",
       "      <th>2</th>\n",
       "      <td>230.0</td>\n",
       "      <td>111.787827</td>\n",
       "    </tr>\n",
       "    <tr>\n",
       "      <th>3</th>\n",
       "      <td>183.0</td>\n",
       "      <td>139.488948</td>\n",
       "    </tr>\n",
       "    <tr>\n",
       "      <th>4</th>\n",
       "      <td>89.0</td>\n",
       "      <td>101.545396</td>\n",
       "    </tr>\n",
       "    <tr>\n",
       "      <th>5</th>\n",
       "      <td>163.0</td>\n",
       "      <td>120.167998</td>\n",
       "    </tr>\n",
       "    <tr>\n",
       "      <th>6</th>\n",
       "      <td>72.0</td>\n",
       "      <td>122.495823</td>\n",
       "    </tr>\n",
       "    <tr>\n",
       "      <th>7</th>\n",
       "      <td>800.0</td>\n",
       "      <td>101.545396</td>\n",
       "    </tr>\n",
       "    <tr>\n",
       "      <th>8</th>\n",
       "      <td>53.0</td>\n",
       "      <td>126.918691</td>\n",
       "    </tr>\n",
       "    <tr>\n",
       "      <th>9</th>\n",
       "      <td>96.0</td>\n",
       "      <td>101.545396</td>\n",
       "    </tr>\n",
       "    <tr>\n",
       "      <th>10</th>\n",
       "      <td>400.0</td>\n",
       "      <td>111.904218</td>\n",
       "    </tr>\n",
       "    <tr>\n",
       "      <th>11</th>\n",
       "      <td>32.0</td>\n",
       "      <td>138.325035</td>\n",
       "    </tr>\n",
       "    <tr>\n",
       "      <th>12</th>\n",
       "      <td>48.0</td>\n",
       "      <td>111.322262</td>\n",
       "    </tr>\n",
       "    <tr>\n",
       "      <th>13</th>\n",
       "      <td>50.0</td>\n",
       "      <td>115.512347</td>\n",
       "    </tr>\n",
       "    <tr>\n",
       "      <th>14</th>\n",
       "      <td>107.0</td>\n",
       "      <td>136.928340</td>\n",
       "    </tr>\n",
       "    <tr>\n",
       "      <th>15</th>\n",
       "      <td>189.0</td>\n",
       "      <td>144.028207</td>\n",
       "    </tr>\n",
       "    <tr>\n",
       "      <th>16</th>\n",
       "      <td>85.0</td>\n",
       "      <td>101.545396</td>\n",
       "    </tr>\n",
       "    <tr>\n",
       "      <th>17</th>\n",
       "      <td>600.0</td>\n",
       "      <td>122.379432</td>\n",
       "    </tr>\n",
       "    <tr>\n",
       "      <th>18</th>\n",
       "      <td>49.0</td>\n",
       "      <td>101.545396</td>\n",
       "    </tr>\n",
       "    <tr>\n",
       "      <th>19</th>\n",
       "      <td>108.0</td>\n",
       "      <td>101.545396</td>\n",
       "    </tr>\n",
       "    <tr>\n",
       "      <th>20</th>\n",
       "      <td>75.0</td>\n",
       "      <td>122.495823</td>\n",
       "    </tr>\n",
       "    <tr>\n",
       "      <th>21</th>\n",
       "      <td>59.0</td>\n",
       "      <td>110.274741</td>\n",
       "    </tr>\n",
       "    <tr>\n",
       "      <th>22</th>\n",
       "      <td>171.0</td>\n",
       "      <td>112.020609</td>\n",
       "    </tr>\n",
       "    <tr>\n",
       "      <th>23</th>\n",
       "      <td>59.0</td>\n",
       "      <td>101.545396</td>\n",
       "    </tr>\n",
       "    <tr>\n",
       "      <th>24</th>\n",
       "      <td>179.0</td>\n",
       "      <td>102.010961</td>\n",
       "    </tr>\n",
       "    <tr>\n",
       "      <th>25</th>\n",
       "      <td>26.0</td>\n",
       "      <td>101.545396</td>\n",
       "    </tr>\n",
       "    <tr>\n",
       "      <th>26</th>\n",
       "      <td>60.0</td>\n",
       "      <td>101.545396</td>\n",
       "    </tr>\n",
       "    <tr>\n",
       "      <th>27</th>\n",
       "      <td>50.0</td>\n",
       "      <td>102.127352</td>\n",
       "    </tr>\n",
       "    <tr>\n",
       "      <th>28</th>\n",
       "      <td>95.0</td>\n",
       "      <td>104.687960</td>\n",
       "    </tr>\n",
       "    <tr>\n",
       "      <th>29</th>\n",
       "      <td>60.0</td>\n",
       "      <td>101.545396</td>\n",
       "    </tr>\n",
       "  </tbody>\n",
       "</table>\n",
       "</div>"
      ],
      "text/plain": [
       "    Actual   Predicted\n",
       "0    120.0  101.545396\n",
       "1    130.0  123.194171\n",
       "2    230.0  111.787827\n",
       "3    183.0  139.488948\n",
       "4     89.0  101.545396\n",
       "5    163.0  120.167998\n",
       "6     72.0  122.495823\n",
       "7    800.0  101.545396\n",
       "8     53.0  126.918691\n",
       "9     96.0  101.545396\n",
       "10   400.0  111.904218\n",
       "11    32.0  138.325035\n",
       "12    48.0  111.322262\n",
       "13    50.0  115.512347\n",
       "14   107.0  136.928340\n",
       "15   189.0  144.028207\n",
       "16    85.0  101.545396\n",
       "17   600.0  122.379432\n",
       "18    49.0  101.545396\n",
       "19   108.0  101.545396\n",
       "20    75.0  122.495823\n",
       "21    59.0  110.274741\n",
       "22   171.0  112.020609\n",
       "23    59.0  101.545396\n",
       "24   179.0  102.010961\n",
       "25    26.0  101.545396\n",
       "26    60.0  101.545396\n",
       "27    50.0  102.127352\n",
       "28    95.0  104.687960\n",
       "29    60.0  101.545396"
      ]
     },
     "execution_count": 26,
     "metadata": {},
     "output_type": "execute_result"
    }
   ],
   "source": [
    "# Create a dataframe to compare the actual and predicted values of y\n",
    "\n",
    "data = pd.DataFrame({'Actual': y_test.flatten(), 'Predicted': y_predicted.flatten()})\n",
    "data.head(30)"
   ]
  },
  {
   "cell_type": "code",
   "execution_count": 28,
   "id": "d4660038",
   "metadata": {},
   "outputs": [],
   "source": [
    "# Compare how regression fits training set. How well does model predict y in the training set?\n",
    "y_predicted_train = regression.predict(X_train)"
   ]
  },
  {
   "cell_type": "code",
   "execution_count": 29,
   "id": "f22896f9",
   "metadata": {},
   "outputs": [],
   "source": [
    "rmse = mean_squared_error(y_train, y_predicted_train)\n",
    "r2 = r2_score(y_train, y_predicted_train)"
   ]
  },
  {
   "cell_type": "code",
   "execution_count": 30,
   "id": "0b2d370d",
   "metadata": {},
   "outputs": [
    {
     "name": "stdout",
     "output_type": "stream",
     "text": [
      "Slope: [[0.11639126]]\n",
      "Mean squared error:  29375.281276985435\n",
      "R2 score:  0.008464603994204012\n"
     ]
    }
   ],
   "source": [
    "print('Slope:' ,regression.coef_)\n",
    "print('Mean squared error: ', rmse)\n",
    "print('R2 score: ', r2)"
   ]
  },
  {
   "cell_type": "code",
   "execution_count": 32,
   "id": "5fff8f68",
   "metadata": {},
   "outputs": [
    {
     "data": {
      "image/png": "[encoded data removed]",
      "text/plain": [
       "<Figure size 432x288 with 1 Axes>"
      ]
     },
     "metadata": {
      "needs_background": "light"
     },
     "output_type": "display_data"
    }
   ],
   "source": [
    "# Visualize it\n",
    "\n",
    "plot_test = plt\n",
    "plot_test.scatter(X_train, y_train, color='green', s = 15)\n",
    "plot_test.plot(X_train, y_predicted_train, color='red', linewidth =3)\n",
    "plot_test.title('availability_365 vs price (Test set)')\n",
    "plot_test.xlabel('availability_365')\n",
    "plot_test.ylabel('Price')\n",
    "plot_test.show()"
   ]
  },
  {
   "cell_type": "code",
   "execution_count": null,
   "id": "cfa57815",
   "metadata": {},
   "outputs": [],
   "source": []
  }
 ],
 "metadata": {
  "kernelspec": {
   "display_name": "Python 3 (ipykernel)",
   "language": "python",
   "name": "python3"
  },
  "language_info": {
   "codemirror_mode": {
    "name": "ipython",
    "version": 3
   },
   "file_extension": ".py",
   "mimetype": "text/x-python",
   "name": "python",
   "nbconvert_exporter": "python",
   "pygments_lexer": "ipython3",
   "version": "3.8.12"
  }
 },
 "nbformat": 4,
 "nbformat_minor": 5
}
