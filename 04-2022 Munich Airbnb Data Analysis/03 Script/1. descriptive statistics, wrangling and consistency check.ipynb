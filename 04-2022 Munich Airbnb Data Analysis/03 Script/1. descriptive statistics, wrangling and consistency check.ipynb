{
 "cells": [
  {
   "cell_type": "markdown",
   "id": "71021cc7",
   "metadata": {},
   "source": [
    "## Descriptive statistics, wrangling and consistency check"
   ]
  },
  {
   "cell_type": "markdown",
   "id": "a07dd733",
   "metadata": {},
   "source": [
    "__01. Importing Libraries__"
   ]
  },
  {
   "cell_type": "code",
   "execution_count": 2,
   "id": "7d69253a",
   "metadata": {},
   "outputs": [],
   "source": [
    "#importing libraries\n",
    "import pandas as pd\n",
    "import numpy as np\n",
    "import os\n",
    "import matplotlib.pyplot as plt\n",
    "import seaborn as sns\n",
    "import scipy"
   ]
  },
  {
   "cell_type": "markdown",
   "id": "4ea6f352",
   "metadata": {},
   "source": [
    "__02. Importing Dataset__"
   ]
  },
  {
   "cell_type": "code",
   "execution_count": 5,
   "id": "8ead5e2f",
   "metadata": {},
   "outputs": [],
   "source": [
    "df = pd.read_csv(r'/Users/rayruslijunior/04-2022 Munich Airbnb Data Analysis/02 Data/Original Data/munich.csv', index_col = False)"
   ]
  },
  {
   "cell_type": "code",
   "execution_count": 6,
   "id": "f0e581d2",
   "metadata": {},
   "outputs": [],
   "source": [
    "#command to display all columns on the dataset\n",
    "pd.set_option('display.max_columns', None)"
   ]
  },
  {
   "cell_type": "code",
   "execution_count": 14,
   "id": "d5385560",
   "metadata": {},
   "outputs": [
    {
     "data": {
      "text/html": [
       "<div>\n",
       "<style scoped>\n",
       "    .dataframe tbody tr th:only-of-type {\n",
       "        vertical-align: middle;\n",
       "    }\n",
       "\n",
       "    .dataframe tbody tr th {\n",
       "        vertical-align: top;\n",
       "    }\n",
       "\n",
       "    .dataframe thead th {\n",
       "        text-align: right;\n",
       "    }\n",
       "</style>\n",
       "<table border=\"1\" class=\"dataframe\">\n",
       "  <thead>\n",
       "    <tr style=\"text-align: right;\">\n",
       "      <th></th>\n",
       "      <th>id</th>\n",
       "      <th>name</th>\n",
       "      <th>host_id</th>\n",
       "      <th>host_name</th>\n",
       "      <th>neighbourhood_group</th>\n",
       "      <th>neighbourhood</th>\n",
       "      <th>latitude</th>\n",
       "      <th>longitude</th>\n",
       "      <th>room_type</th>\n",
       "      <th>price</th>\n",
       "      <th>minimum_nights</th>\n",
       "      <th>number_of_reviews</th>\n",
       "      <th>last_review</th>\n",
       "      <th>reviews_per_month</th>\n",
       "      <th>calculated_host_listings_count</th>\n",
       "      <th>availability_365</th>\n",
       "      <th>number_of_reviews_ltm</th>\n",
       "      <th>license</th>\n",
       "    </tr>\n",
       "  </thead>\n",
       "  <tbody>\n",
       "    <tr>\n",
       "      <th>0</th>\n",
       "      <td>97945</td>\n",
       "      <td>Deluxw-Apartm. with roof terrace</td>\n",
       "      <td>517685</td>\n",
       "      <td>Angelika</td>\n",
       "      <td>NaN</td>\n",
       "      <td>Hadern</td>\n",
       "      <td>48.11492</td>\n",
       "      <td>11.48954</td>\n",
       "      <td>Entire home/apt</td>\n",
       "      <td>80</td>\n",
       "      <td>2</td>\n",
       "      <td>129</td>\n",
       "      <td>2019-10-03</td>\n",
       "      <td>1.04</td>\n",
       "      <td>2</td>\n",
       "      <td>22</td>\n",
       "      <td>0</td>\n",
       "      <td>NaN</td>\n",
       "    </tr>\n",
       "    <tr>\n",
       "      <th>1</th>\n",
       "      <td>114695</td>\n",
       "      <td>Apartment Munich/East with sundeck</td>\n",
       "      <td>581737</td>\n",
       "      <td>Stephan</td>\n",
       "      <td>NaN</td>\n",
       "      <td>Berg am Laim</td>\n",
       "      <td>48.12071</td>\n",
       "      <td>11.63758</td>\n",
       "      <td>Entire home/apt</td>\n",
       "      <td>95</td>\n",
       "      <td>2</td>\n",
       "      <td>53</td>\n",
       "      <td>2019-10-06</td>\n",
       "      <td>0.42</td>\n",
       "      <td>2</td>\n",
       "      <td>52</td>\n",
       "      <td>0</td>\n",
       "      <td>NaN</td>\n",
       "    </tr>\n",
       "    <tr>\n",
       "      <th>2</th>\n",
       "      <td>127383</td>\n",
       "      <td>City apartment next to Pinakothek</td>\n",
       "      <td>630556</td>\n",
       "      <td>Sonja</td>\n",
       "      <td>NaN</td>\n",
       "      <td>Maxvorstadt</td>\n",
       "      <td>48.15199</td>\n",
       "      <td>11.56482</td>\n",
       "      <td>Entire home/apt</td>\n",
       "      <td>99</td>\n",
       "      <td>3</td>\n",
       "      <td>101</td>\n",
       "      <td>2021-10-11</td>\n",
       "      <td>0.79</td>\n",
       "      <td>1</td>\n",
       "      <td>4</td>\n",
       "      <td>8</td>\n",
       "      <td>NaN</td>\n",
       "    </tr>\n",
       "    <tr>\n",
       "      <th>3</th>\n",
       "      <td>159634</td>\n",
       "      <td>Fancy, bright central roof top flat and homeof...</td>\n",
       "      <td>765694</td>\n",
       "      <td>Sanna</td>\n",
       "      <td>NaN</td>\n",
       "      <td>Pasing-Obermenzing</td>\n",
       "      <td>48.13855</td>\n",
       "      <td>11.46586</td>\n",
       "      <td>Entire home/apt</td>\n",
       "      <td>52</td>\n",
       "      <td>3</td>\n",
       "      <td>34</td>\n",
       "      <td>2020-12-23</td>\n",
       "      <td>0.27</td>\n",
       "      <td>1</td>\n",
       "      <td>0</td>\n",
       "      <td>0</td>\n",
       "      <td>NaN</td>\n",
       "    </tr>\n",
       "    <tr>\n",
       "      <th>4</th>\n",
       "      <td>170154</td>\n",
       "      <td>Own floor &amp; bath, parking &amp; breakfast</td>\n",
       "      <td>108297</td>\n",
       "      <td>Alex</td>\n",
       "      <td>NaN</td>\n",
       "      <td>Sendling-Westpark</td>\n",
       "      <td>48.10814</td>\n",
       "      <td>11.52733</td>\n",
       "      <td>Private room</td>\n",
       "      <td>55</td>\n",
       "      <td>2</td>\n",
       "      <td>496</td>\n",
       "      <td>2021-11-08</td>\n",
       "      <td>3.97</td>\n",
       "      <td>1</td>\n",
       "      <td>162</td>\n",
       "      <td>18</td>\n",
       "      <td>NaN</td>\n",
       "    </tr>\n",
       "    <tr>\n",
       "      <th>...</th>\n",
       "      <td>...</td>\n",
       "      <td>...</td>\n",
       "      <td>...</td>\n",
       "      <td>...</td>\n",
       "      <td>...</td>\n",
       "      <td>...</td>\n",
       "      <td>...</td>\n",
       "      <td>...</td>\n",
       "      <td>...</td>\n",
       "      <td>...</td>\n",
       "      <td>...</td>\n",
       "      <td>...</td>\n",
       "      <td>...</td>\n",
       "      <td>...</td>\n",
       "      <td>...</td>\n",
       "      <td>...</td>\n",
       "      <td>...</td>\n",
       "      <td>...</td>\n",
       "    </tr>\n",
       "    <tr>\n",
       "      <th>95</th>\n",
       "      <td>321542</td>\n",
       "      <td>Absolute quiet room</td>\n",
       "      <td>1646639</td>\n",
       "      <td>Walter</td>\n",
       "      <td>NaN</td>\n",
       "      <td>Thalkirchen-Obersendling-Forstenried-Fürstenri...</td>\n",
       "      <td>48.09307</td>\n",
       "      <td>11.52147</td>\n",
       "      <td>Private room</td>\n",
       "      <td>42</td>\n",
       "      <td>16</td>\n",
       "      <td>26</td>\n",
       "      <td>2019-10-11</td>\n",
       "      <td>0.22</td>\n",
       "      <td>1</td>\n",
       "      <td>359</td>\n",
       "      <td>0</td>\n",
       "      <td>NaN</td>\n",
       "    </tr>\n",
       "    <tr>\n",
       "      <th>96</th>\n",
       "      <td>392399</td>\n",
       "      <td>Sunny room, private bathroom and roof top terrace</td>\n",
       "      <td>1962150</td>\n",
       "      <td>Christa</td>\n",
       "      <td>NaN</td>\n",
       "      <td>Sendling</td>\n",
       "      <td>48.11397</td>\n",
       "      <td>11.54844</td>\n",
       "      <td>Private room</td>\n",
       "      <td>68</td>\n",
       "      <td>2</td>\n",
       "      <td>92</td>\n",
       "      <td>2019-11-29</td>\n",
       "      <td>0.78</td>\n",
       "      <td>1</td>\n",
       "      <td>0</td>\n",
       "      <td>0</td>\n",
       "      <td>NaN</td>\n",
       "    </tr>\n",
       "    <tr>\n",
       "      <th>97</th>\n",
       "      <td>406404</td>\n",
       "      <td>Holiday Flat in Munich Schwabing</td>\n",
       "      <td>2024648</td>\n",
       "      <td>Tammy</td>\n",
       "      <td>NaN</td>\n",
       "      <td>Schwabing-West</td>\n",
       "      <td>48.17723</td>\n",
       "      <td>11.58283</td>\n",
       "      <td>Entire home/apt</td>\n",
       "      <td>120</td>\n",
       "      <td>30</td>\n",
       "      <td>1</td>\n",
       "      <td>2012-11-17</td>\n",
       "      <td>0.01</td>\n",
       "      <td>4</td>\n",
       "      <td>357</td>\n",
       "      <td>0</td>\n",
       "      <td>NaN</td>\n",
       "    </tr>\n",
       "    <tr>\n",
       "      <th>98</th>\n",
       "      <td>483093</td>\n",
       "      <td>cozy-apartment - *WLAN* PARKING</td>\n",
       "      <td>2391129</td>\n",
       "      <td>Julia Und Lisa</td>\n",
       "      <td>NaN</td>\n",
       "      <td>Ramersdorf-Perlach</td>\n",
       "      <td>48.09748</td>\n",
       "      <td>11.63993</td>\n",
       "      <td>Entire home/apt</td>\n",
       "      <td>350</td>\n",
       "      <td>2</td>\n",
       "      <td>169</td>\n",
       "      <td>2021-10-11</td>\n",
       "      <td>1.45</td>\n",
       "      <td>3</td>\n",
       "      <td>265</td>\n",
       "      <td>7</td>\n",
       "      <td>NaN</td>\n",
       "    </tr>\n",
       "    <tr>\n",
       "      <th>99</th>\n",
       "      <td>485613</td>\n",
       "      <td>Cozy flat in the center of Munich</td>\n",
       "      <td>1488030</td>\n",
       "      <td>Natalie</td>\n",
       "      <td>NaN</td>\n",
       "      <td>Neuhausen-Nymphenburg</td>\n",
       "      <td>48.14865</td>\n",
       "      <td>11.53318</td>\n",
       "      <td>Entire home/apt</td>\n",
       "      <td>90</td>\n",
       "      <td>3</td>\n",
       "      <td>51</td>\n",
       "      <td>2019-12-28</td>\n",
       "      <td>0.47</td>\n",
       "      <td>2</td>\n",
       "      <td>21</td>\n",
       "      <td>0</td>\n",
       "      <td>NaN</td>\n",
       "    </tr>\n",
       "  </tbody>\n",
       "</table>\n",
       "<p>100 rows × 18 columns</p>\n",
       "</div>"
      ],
      "text/plain": [
       "        id                                               name  host_id  \\\n",
       "0    97945                   Deluxw-Apartm. with roof terrace   517685   \n",
       "1   114695                 Apartment Munich/East with sundeck   581737   \n",
       "2   127383                  City apartment next to Pinakothek   630556   \n",
       "3   159634  Fancy, bright central roof top flat and homeof...   765694   \n",
       "4   170154              Own floor & bath, parking & breakfast   108297   \n",
       "..     ...                                                ...      ...   \n",
       "95  321542                                Absolute quiet room  1646639   \n",
       "96  392399  Sunny room, private bathroom and roof top terrace  1962150   \n",
       "97  406404                   Holiday Flat in Munich Schwabing  2024648   \n",
       "98  483093                    cozy-apartment - *WLAN* PARKING  2391129   \n",
       "99  485613                  Cozy flat in the center of Munich  1488030   \n",
       "\n",
       "         host_name  neighbourhood_group  \\\n",
       "0         Angelika                  NaN   \n",
       "1          Stephan                  NaN   \n",
       "2            Sonja                  NaN   \n",
       "3            Sanna                  NaN   \n",
       "4             Alex                  NaN   \n",
       "..             ...                  ...   \n",
       "95          Walter                  NaN   \n",
       "96         Christa                  NaN   \n",
       "97           Tammy                  NaN   \n",
       "98  Julia Und Lisa                  NaN   \n",
       "99         Natalie                  NaN   \n",
       "\n",
       "                                        neighbourhood  latitude  longitude  \\\n",
       "0                                              Hadern  48.11492   11.48954   \n",
       "1                                        Berg am Laim  48.12071   11.63758   \n",
       "2                                         Maxvorstadt  48.15199   11.56482   \n",
       "3                                  Pasing-Obermenzing  48.13855   11.46586   \n",
       "4                                   Sendling-Westpark  48.10814   11.52733   \n",
       "..                                                ...       ...        ...   \n",
       "95  Thalkirchen-Obersendling-Forstenried-Fürstenri...  48.09307   11.52147   \n",
       "96                                           Sendling  48.11397   11.54844   \n",
       "97                                     Schwabing-West  48.17723   11.58283   \n",
       "98                                 Ramersdorf-Perlach  48.09748   11.63993   \n",
       "99                              Neuhausen-Nymphenburg  48.14865   11.53318   \n",
       "\n",
       "          room_type  price  minimum_nights  number_of_reviews last_review  \\\n",
       "0   Entire home/apt     80               2                129  2019-10-03   \n",
       "1   Entire home/apt     95               2                 53  2019-10-06   \n",
       "2   Entire home/apt     99               3                101  2021-10-11   \n",
       "3   Entire home/apt     52               3                 34  2020-12-23   \n",
       "4      Private room     55               2                496  2021-11-08   \n",
       "..              ...    ...             ...                ...         ...   \n",
       "95     Private room     42              16                 26  2019-10-11   \n",
       "96     Private room     68               2                 92  2019-11-29   \n",
       "97  Entire home/apt    120              30                  1  2012-11-17   \n",
       "98  Entire home/apt    350               2                169  2021-10-11   \n",
       "99  Entire home/apt     90               3                 51  2019-12-28   \n",
       "\n",
       "    reviews_per_month  calculated_host_listings_count  availability_365  \\\n",
       "0                1.04                               2                22   \n",
       "1                0.42                               2                52   \n",
       "2                0.79                               1                 4   \n",
       "3                0.27                               1                 0   \n",
       "4                3.97                               1               162   \n",
       "..                ...                             ...               ...   \n",
       "95               0.22                               1               359   \n",
       "96               0.78                               1                 0   \n",
       "97               0.01                               4               357   \n",
       "98               1.45                               3               265   \n",
       "99               0.47                               2                21   \n",
       "\n",
       "    number_of_reviews_ltm  license  \n",
       "0                       0      NaN  \n",
       "1                       0      NaN  \n",
       "2                       8      NaN  \n",
       "3                       0      NaN  \n",
       "4                      18      NaN  \n",
       "..                    ...      ...  \n",
       "95                      0      NaN  \n",
       "96                      0      NaN  \n",
       "97                      0      NaN  \n",
       "98                      7      NaN  \n",
       "99                      0      NaN  \n",
       "\n",
       "[100 rows x 18 columns]"
      ]
     },
     "execution_count": 14,
     "metadata": {},
     "output_type": "execute_result"
    }
   ],
   "source": [
    "df.head(100)"
   ]
  },
  {
   "cell_type": "markdown",
   "id": "6cb0f97f",
   "metadata": {},
   "source": [
    "__03. Data Wrangling, Consistency Check and Cleaning__"
   ]
  },
  {
   "cell_type": "code",
   "execution_count": 8,
   "id": "17202d6f",
   "metadata": {},
   "outputs": [
    {
     "data": {
      "text/plain": [
       "(4995, 18)"
      ]
     },
     "execution_count": 8,
     "metadata": {},
     "output_type": "execute_result"
    }
   ],
   "source": [
    "#checking the shape of our data set\n",
    "df.shape"
   ]
  },
  {
   "cell_type": "code",
   "execution_count": 9,
   "id": "3335651e",
   "metadata": {},
   "outputs": [
    {
     "data": {
      "text/plain": [
       "id                                  int64\n",
       "name                               object\n",
       "host_id                             int64\n",
       "host_name                          object\n",
       "neighbourhood_group               float64\n",
       "neighbourhood                      object\n",
       "latitude                          float64\n",
       "longitude                         float64\n",
       "room_type                          object\n",
       "price                               int64\n",
       "minimum_nights                      int64\n",
       "number_of_reviews                   int64\n",
       "last_review                        object\n",
       "reviews_per_month                 float64\n",
       "calculated_host_listings_count      int64\n",
       "availability_365                    int64\n",
       "number_of_reviews_ltm               int64\n",
       "license                           float64\n",
       "dtype: object"
      ]
     },
     "execution_count": 9,
     "metadata": {},
     "output_type": "execute_result"
    }
   ],
   "source": [
    "#checking the types of our data set\n",
    "df.dtypes"
   ]
  },
  {
   "cell_type": "code",
   "execution_count": 10,
   "id": "a9f3e678",
   "metadata": {},
   "outputs": [],
   "source": [
    "#id and host_id will be change to exclude it from describe\n",
    "df['id'] = df['id'].astype('str')\n",
    "df['host_id'] = df['host_id'].astype('str')"
   ]
  },
  {
   "cell_type": "code",
   "execution_count": 11,
   "id": "37a414a8",
   "metadata": {},
   "outputs": [
    {
     "data": {
      "text/plain": [
       "id                                 object\n",
       "name                               object\n",
       "host_id                            object\n",
       "host_name                          object\n",
       "neighbourhood_group               float64\n",
       "neighbourhood                      object\n",
       "latitude                          float64\n",
       "longitude                         float64\n",
       "room_type                          object\n",
       "price                               int64\n",
       "minimum_nights                      int64\n",
       "number_of_reviews                   int64\n",
       "last_review                        object\n",
       "reviews_per_month                 float64\n",
       "calculated_host_listings_count      int64\n",
       "availability_365                    int64\n",
       "number_of_reviews_ltm               int64\n",
       "license                           float64\n",
       "dtype: object"
      ]
     },
     "execution_count": 11,
     "metadata": {},
     "output_type": "execute_result"
    }
   ],
   "source": [
    "df.dtypes"
   ]
  },
  {
   "cell_type": "code",
   "execution_count": 12,
   "id": "351fa78a",
   "metadata": {},
   "outputs": [
    {
     "name": "stdout",
     "output_type": "stream",
     "text": [
      "0\n"
     ]
    }
   ],
   "source": [
    "#Duplicate Check - There is no duplocate\n",
    "print(df.duplicated().sum())"
   ]
  },
  {
   "cell_type": "code",
   "execution_count": 15,
   "id": "beac3717",
   "metadata": {},
   "outputs": [
    {
     "data": {
      "text/plain": [
       "id                                   0\n",
       "name                                 1\n",
       "host_id                              0\n",
       "host_name                            1\n",
       "neighbourhood_group               4995\n",
       "neighbourhood                        0\n",
       "latitude                             0\n",
       "longitude                            0\n",
       "room_type                            0\n",
       "price                                0\n",
       "minimum_nights                       0\n",
       "number_of_reviews                    0\n",
       "last_review                       1183\n",
       "reviews_per_month                 1183\n",
       "calculated_host_listings_count       0\n",
       "availability_365                     0\n",
       "number_of_reviews_ltm                0\n",
       "license                           4995\n",
       "dtype: int64"
      ]
     },
     "execution_count": 15,
     "metadata": {},
     "output_type": "execute_result"
    }
   ],
   "source": [
    "#Checking for missing data\n",
    "df.isnull().sum()"
   ]
  },
  {
   "cell_type": "markdown",
   "id": "6475fea9",
   "metadata": {},
   "source": [
    "All of the missing data is not relevant for the analysis, name,host_name, license and last_review & review_per_month - I will leave it as it is."
   ]
  },
  {
   "cell_type": "code",
   "execution_count": 18,
   "id": "20240339",
   "metadata": {},
   "outputs": [],
   "source": [
    "#dropping neighbourhood_group,last_review,review_per_month and license column since I wont be needing it for the analysis\n",
    "df = df.drop(df.columns[[4,12,13,17]], axis=1) "
   ]
  },
  {
   "cell_type": "code",
   "execution_count": 19,
   "id": "0081eceb",
   "metadata": {},
   "outputs": [
    {
     "data": {
      "text/html": [
       "<div>\n",
       "<style scoped>\n",
       "    .dataframe tbody tr th:only-of-type {\n",
       "        vertical-align: middle;\n",
       "    }\n",
       "\n",
       "    .dataframe tbody tr th {\n",
       "        vertical-align: top;\n",
       "    }\n",
       "\n",
       "    .dataframe thead th {\n",
       "        text-align: right;\n",
       "    }\n",
       "</style>\n",
       "<table border=\"1\" class=\"dataframe\">\n",
       "  <thead>\n",
       "    <tr style=\"text-align: right;\">\n",
       "      <th></th>\n",
       "      <th>id</th>\n",
       "      <th>name</th>\n",
       "      <th>host_id</th>\n",
       "      <th>host_name</th>\n",
       "      <th>neighbourhood</th>\n",
       "      <th>latitude</th>\n",
       "      <th>longitude</th>\n",
       "      <th>room_type</th>\n",
       "      <th>price</th>\n",
       "      <th>minimum_nights</th>\n",
       "      <th>number_of_reviews</th>\n",
       "      <th>calculated_host_listings_count</th>\n",
       "      <th>availability_365</th>\n",
       "      <th>number_of_reviews_ltm</th>\n",
       "    </tr>\n",
       "  </thead>\n",
       "  <tbody>\n",
       "    <tr>\n",
       "      <th>4990</th>\n",
       "      <td>53933449</td>\n",
       "      <td>Tiny House \\n\"Holzofen Lodge\"</td>\n",
       "      <td>8767947</td>\n",
       "      <td>Reno</td>\n",
       "      <td>Pasing-Obermenzing</td>\n",
       "      <td>48.147057</td>\n",
       "      <td>11.482297</td>\n",
       "      <td>Entire home/apt</td>\n",
       "      <td>12</td>\n",
       "      <td>30</td>\n",
       "      <td>0</td>\n",
       "      <td>1</td>\n",
       "      <td>365</td>\n",
       "      <td>0</td>\n",
       "    </tr>\n",
       "    <tr>\n",
       "      <th>4991</th>\n",
       "      <td>53935376</td>\n",
       "      <td>Haus mit Garten im grünen Münchner Westen</td>\n",
       "      <td>22253535</td>\n",
       "      <td>Julia</td>\n",
       "      <td>Pasing-Obermenzing</td>\n",
       "      <td>48.131398</td>\n",
       "      <td>11.452456</td>\n",
       "      <td>Entire home/apt</td>\n",
       "      <td>85</td>\n",
       "      <td>120</td>\n",
       "      <td>0</td>\n",
       "      <td>1</td>\n",
       "      <td>191</td>\n",
       "      <td>0</td>\n",
       "    </tr>\n",
       "    <tr>\n",
       "      <th>4992</th>\n",
       "      <td>53936793</td>\n",
       "      <td>Dein neues Zuhause in München -schönes Zimmer</td>\n",
       "      <td>434644613</td>\n",
       "      <td>Norbert</td>\n",
       "      <td>Pasing-Obermenzing</td>\n",
       "      <td>48.144516</td>\n",
       "      <td>11.467485</td>\n",
       "      <td>Private room</td>\n",
       "      <td>35</td>\n",
       "      <td>28</td>\n",
       "      <td>0</td>\n",
       "      <td>2</td>\n",
       "      <td>365</td>\n",
       "      <td>0</td>\n",
       "    </tr>\n",
       "    <tr>\n",
       "      <th>4993</th>\n",
       "      <td>53945865</td>\n",
       "      <td>Modern 125Sqm 2BR apartment, carpark, Olympia ...</td>\n",
       "      <td>10419667</td>\n",
       "      <td>Emily</td>\n",
       "      <td>Milbertshofen-Am Hart</td>\n",
       "      <td>48.173054</td>\n",
       "      <td>11.560052</td>\n",
       "      <td>Entire home/apt</td>\n",
       "      <td>124</td>\n",
       "      <td>21</td>\n",
       "      <td>0</td>\n",
       "      <td>1</td>\n",
       "      <td>65</td>\n",
       "      <td>0</td>\n",
       "    </tr>\n",
       "    <tr>\n",
       "      <th>4994</th>\n",
       "      <td>53949583</td>\n",
       "      <td>Amazing Duplex flat with balcony</td>\n",
       "      <td>434352177</td>\n",
       "      <td>Kathrin</td>\n",
       "      <td>Berg am Laim</td>\n",
       "      <td>48.127276</td>\n",
       "      <td>11.639675</td>\n",
       "      <td>Entire home/apt</td>\n",
       "      <td>77</td>\n",
       "      <td>1</td>\n",
       "      <td>0</td>\n",
       "      <td>2</td>\n",
       "      <td>7</td>\n",
       "      <td>0</td>\n",
       "    </tr>\n",
       "  </tbody>\n",
       "</table>\n",
       "</div>"
      ],
      "text/plain": [
       "            id                                               name    host_id  \\\n",
       "4990  53933449                      Tiny House \\n\"Holzofen Lodge\"    8767947   \n",
       "4991  53935376          Haus mit Garten im grünen Münchner Westen   22253535   \n",
       "4992  53936793      Dein neues Zuhause in München -schönes Zimmer  434644613   \n",
       "4993  53945865  Modern 125Sqm 2BR apartment, carpark, Olympia ...   10419667   \n",
       "4994  53949583                   Amazing Duplex flat with balcony  434352177   \n",
       "\n",
       "     host_name          neighbourhood   latitude  longitude        room_type  \\\n",
       "4990      Reno     Pasing-Obermenzing  48.147057  11.482297  Entire home/apt   \n",
       "4991     Julia     Pasing-Obermenzing  48.131398  11.452456  Entire home/apt   \n",
       "4992   Norbert     Pasing-Obermenzing  48.144516  11.467485     Private room   \n",
       "4993     Emily  Milbertshofen-Am Hart  48.173054  11.560052  Entire home/apt   \n",
       "4994   Kathrin           Berg am Laim  48.127276  11.639675  Entire home/apt   \n",
       "\n",
       "      price  minimum_nights  number_of_reviews  \\\n",
       "4990     12              30                  0   \n",
       "4991     85             120                  0   \n",
       "4992     35              28                  0   \n",
       "4993    124              21                  0   \n",
       "4994     77               1                  0   \n",
       "\n",
       "      calculated_host_listings_count  availability_365  number_of_reviews_ltm  \n",
       "4990                               1               365                      0  \n",
       "4991                               1               191                      0  \n",
       "4992                               2               365                      0  \n",
       "4993                               1                65                      0  \n",
       "4994                               2                 7                      0  "
      ]
     },
     "execution_count": 19,
     "metadata": {},
     "output_type": "execute_result"
    }
   ],
   "source": [
    "df.tail()"
   ]
  },
  {
   "cell_type": "code",
   "execution_count": 20,
   "id": "d3838c69",
   "metadata": {},
   "outputs": [
    {
     "name": "stdout",
     "output_type": "stream",
     "text": [
      "name\n",
      "host_name\n"
     ]
    }
   ],
   "source": [
    "#Checking for columns with mixed data types\n",
    "\n",
    "for col in df.columns.tolist():\n",
    "  weird = (df[[col]].applymap(type) != df[[col]].iloc[0].apply(type)).any(axis = 1)\n",
    "  if len (df[weird]) > 0:\n",
    "    print (col)"
   ]
  },
  {
   "cell_type": "markdown",
   "id": "509c0fba",
   "metadata": {},
   "source": [
    "These 2 columns has a mixing data types, however I won't be needing it for the analysis - however since I will keep NaN as it is and will convert them to \"missing\" or 0 to make it dtypes consistent"
   ]
  },
  {
   "cell_type": "code",
   "execution_count": 21,
   "id": "0033f13f",
   "metadata": {},
   "outputs": [],
   "source": [
    "# Replace Nan with missing\n",
    "df['name'].fillna('missing', inplace=True)"
   ]
  },
  {
   "cell_type": "code",
   "execution_count": 22,
   "id": "9857e8a9",
   "metadata": {},
   "outputs": [
    {
     "data": {
      "text/plain": [
       "Business Single Apartment                             7\n",
       "Komfortables Zimmer in City-Nähe (Super 8 West)       6\n",
       "PM-Rooms : Cozy hostel in Munich                      6\n",
       "Chummy Room, 5 min to Oktoberfest                     6\n",
       "München Mehrparteienhaus                              5\n",
       "                                                     ..\n",
       "🎖-30% LISA’S DeluXXe Apartment Munich city center     1\n",
       "🎖-30% Lisa’s Deluxe Apartment Munich City Downtown    1\n",
       "Cozy and Chic Apartment City Center / Own kitchen     1\n",
       "Cozy apt in \"Glockenbachviertel\" close to the Isar    1\n",
       "Amazing Duplex flat with balcony                      1\n",
       "Name: name, Length: 4871, dtype: int64"
      ]
     },
     "execution_count": 22,
     "metadata": {},
     "output_type": "execute_result"
    }
   ],
   "source": [
    "# Check\n",
    "df['name'].value_counts(dropna=False)"
   ]
  },
  {
   "cell_type": "code",
   "execution_count": 23,
   "id": "8b0027a8",
   "metadata": {},
   "outputs": [],
   "source": [
    "# Assign str to column name\n",
    "df['name'] = df['name'].astype('str')"
   ]
  },
  {
   "cell_type": "code",
   "execution_count": 24,
   "id": "35b7a89d",
   "metadata": {},
   "outputs": [
    {
     "name": "stdout",
     "output_type": "stream",
     "text": [
      "host_name\n"
     ]
    }
   ],
   "source": [
    "# Check again for mixed type columns\n",
    "for col in df.columns.tolist():\n",
    "  weird = (df[[col]].applymap(type) != df[[col]].iloc[0].apply(type)).any(axis = 1)\n",
    "  if len (df[weird]) > 0:\n",
    "    print (col)"
   ]
  },
  {
   "cell_type": "code",
   "execution_count": 25,
   "id": "2bf63fe0",
   "metadata": {},
   "outputs": [],
   "source": [
    "# Do the same for host_name\n",
    "df['host_name'].fillna('missing', inplace=True)"
   ]
  },
  {
   "cell_type": "code",
   "execution_count": 27,
   "id": "84558b8d",
   "metadata": {},
   "outputs": [],
   "source": [
    "df['host_name'] = df['host_name'].astype('str')"
   ]
  },
  {
   "cell_type": "code",
   "execution_count": 28,
   "id": "8aaefe50",
   "metadata": {},
   "outputs": [],
   "source": [
    "# Check again for mixed type columns\n",
    "for col in df.columns.tolist():\n",
    "  weird = (df[[col]].applymap(type) != df[[col]].iloc[0].apply(type)).any(axis = 1)\n",
    "  if len (df[weird]) > 0:\n",
    "    print (col)"
   ]
  },
  {
   "cell_type": "markdown",
   "id": "97150187",
   "metadata": {},
   "source": [
    "There are no more mixed types column"
   ]
  },
  {
   "cell_type": "code",
   "execution_count": 29,
   "id": "e3ccf5aa",
   "metadata": {},
   "outputs": [
    {
     "data": {
      "text/plain": [
       "id                                 object\n",
       "name                               object\n",
       "host_id                            object\n",
       "host_name                          object\n",
       "neighbourhood                      object\n",
       "latitude                          float64\n",
       "longitude                         float64\n",
       "room_type                          object\n",
       "price                               int64\n",
       "minimum_nights                      int64\n",
       "number_of_reviews                   int64\n",
       "calculated_host_listings_count      int64\n",
       "availability_365                    int64\n",
       "number_of_reviews_ltm               int64\n",
       "dtype: object"
      ]
     },
     "execution_count": 29,
     "metadata": {},
     "output_type": "execute_result"
    }
   ],
   "source": [
    "df.dtypes"
   ]
  },
  {
   "cell_type": "code",
   "execution_count": 30,
   "id": "85f27c12",
   "metadata": {},
   "outputs": [
    {
     "data": {
      "text/html": [
       "<div>\n",
       "<style scoped>\n",
       "    .dataframe tbody tr th:only-of-type {\n",
       "        vertical-align: middle;\n",
       "    }\n",
       "\n",
       "    .dataframe tbody tr th {\n",
       "        vertical-align: top;\n",
       "    }\n",
       "\n",
       "    .dataframe thead th {\n",
       "        text-align: right;\n",
       "    }\n",
       "</style>\n",
       "<table border=\"1\" class=\"dataframe\">\n",
       "  <thead>\n",
       "    <tr style=\"text-align: right;\">\n",
       "      <th></th>\n",
       "      <th>latitude</th>\n",
       "      <th>longitude</th>\n",
       "      <th>price</th>\n",
       "      <th>minimum_nights</th>\n",
       "      <th>number_of_reviews</th>\n",
       "      <th>calculated_host_listings_count</th>\n",
       "      <th>availability_365</th>\n",
       "      <th>number_of_reviews_ltm</th>\n",
       "    </tr>\n",
       "  </thead>\n",
       "  <tbody>\n",
       "    <tr>\n",
       "      <th>count</th>\n",
       "      <td>4995.000000</td>\n",
       "      <td>4995.000000</td>\n",
       "      <td>4995.000000</td>\n",
       "      <td>4995.000000</td>\n",
       "      <td>4995.000000</td>\n",
       "      <td>4995.000000</td>\n",
       "      <td>4995.000000</td>\n",
       "      <td>4995.000000</td>\n",
       "    </tr>\n",
       "    <tr>\n",
       "      <th>mean</th>\n",
       "      <td>48.140613</td>\n",
       "      <td>11.565088</td>\n",
       "      <td>127.856256</td>\n",
       "      <td>9.006807</td>\n",
       "      <td>22.338138</td>\n",
       "      <td>2.559159</td>\n",
       "      <td>135.479680</td>\n",
       "      <td>3.485686</td>\n",
       "    </tr>\n",
       "    <tr>\n",
       "      <th>std</th>\n",
       "      <td>0.025502</td>\n",
       "      <td>0.047024</td>\n",
       "      <td>374.145481</td>\n",
       "      <td>31.415472</td>\n",
       "      <td>55.676039</td>\n",
       "      <td>4.541520</td>\n",
       "      <td>136.233306</td>\n",
       "      <td>12.682482</td>\n",
       "    </tr>\n",
       "    <tr>\n",
       "      <th>min</th>\n",
       "      <td>48.068870</td>\n",
       "      <td>11.366801</td>\n",
       "      <td>0.000000</td>\n",
       "      <td>1.000000</td>\n",
       "      <td>0.000000</td>\n",
       "      <td>1.000000</td>\n",
       "      <td>0.000000</td>\n",
       "      <td>0.000000</td>\n",
       "    </tr>\n",
       "    <tr>\n",
       "      <th>25%</th>\n",
       "      <td>48.123745</td>\n",
       "      <td>11.540435</td>\n",
       "      <td>55.000000</td>\n",
       "      <td>1.000000</td>\n",
       "      <td>1.000000</td>\n",
       "      <td>1.000000</td>\n",
       "      <td>0.000000</td>\n",
       "      <td>0.000000</td>\n",
       "    </tr>\n",
       "    <tr>\n",
       "      <th>50%</th>\n",
       "      <td>48.137520</td>\n",
       "      <td>11.565530</td>\n",
       "      <td>81.000000</td>\n",
       "      <td>2.000000</td>\n",
       "      <td>4.000000</td>\n",
       "      <td>1.000000</td>\n",
       "      <td>88.000000</td>\n",
       "      <td>0.000000</td>\n",
       "    </tr>\n",
       "    <tr>\n",
       "      <th>75%</th>\n",
       "      <td>48.157410</td>\n",
       "      <td>11.586970</td>\n",
       "      <td>125.000000</td>\n",
       "      <td>5.000000</td>\n",
       "      <td>17.000000</td>\n",
       "      <td>2.000000</td>\n",
       "      <td>268.000000</td>\n",
       "      <td>2.000000</td>\n",
       "    </tr>\n",
       "    <tr>\n",
       "      <th>max</th>\n",
       "      <td>48.229500</td>\n",
       "      <td>11.711980</td>\n",
       "      <td>9999.000000</td>\n",
       "      <td>1000.000000</td>\n",
       "      <td>765.000000</td>\n",
       "      <td>33.000000</td>\n",
       "      <td>365.000000</td>\n",
       "      <td>450.000000</td>\n",
       "    </tr>\n",
       "  </tbody>\n",
       "</table>\n",
       "</div>"
      ],
      "text/plain": [
       "          latitude    longitude        price  minimum_nights  \\\n",
       "count  4995.000000  4995.000000  4995.000000     4995.000000   \n",
       "mean     48.140613    11.565088   127.856256        9.006807   \n",
       "std       0.025502     0.047024   374.145481       31.415472   \n",
       "min      48.068870    11.366801     0.000000        1.000000   \n",
       "25%      48.123745    11.540435    55.000000        1.000000   \n",
       "50%      48.137520    11.565530    81.000000        2.000000   \n",
       "75%      48.157410    11.586970   125.000000        5.000000   \n",
       "max      48.229500    11.711980  9999.000000     1000.000000   \n",
       "\n",
       "       number_of_reviews  calculated_host_listings_count  availability_365  \\\n",
       "count        4995.000000                     4995.000000       4995.000000   \n",
       "mean           22.338138                        2.559159        135.479680   \n",
       "std            55.676039                        4.541520        136.233306   \n",
       "min             0.000000                        1.000000          0.000000   \n",
       "25%             1.000000                        1.000000          0.000000   \n",
       "50%             4.000000                        1.000000         88.000000   \n",
       "75%            17.000000                        2.000000        268.000000   \n",
       "max           765.000000                       33.000000        365.000000   \n",
       "\n",
       "       number_of_reviews_ltm  \n",
       "count            4995.000000  \n",
       "mean                3.485686  \n",
       "std                12.682482  \n",
       "min                 0.000000  \n",
       "25%                 0.000000  \n",
       "50%                 0.000000  \n",
       "75%                 2.000000  \n",
       "max               450.000000  "
      ]
     },
     "execution_count": 30,
     "metadata": {},
     "output_type": "execute_result"
    }
   ],
   "source": [
    "#checking summary stats\n",
    "df.describe()"
   ]
  },
  {
   "cell_type": "markdown",
   "id": "23208183",
   "metadata": {},
   "source": [
    "We need to look deeper on the column price (min 0 and max 10.999), and availability_365"
   ]
  },
  {
   "cell_type": "code",
   "execution_count": 31,
   "id": "2cab246b",
   "metadata": {},
   "outputs": [
    {
     "data": {
      "text/plain": [
       "(4995, 14)"
      ]
     },
     "execution_count": 31,
     "metadata": {},
     "output_type": "execute_result"
    }
   ],
   "source": [
    "df.shape"
   ]
  },
  {
   "cell_type": "code",
   "execution_count": 32,
   "id": "1d5ce835",
   "metadata": {},
   "outputs": [],
   "source": [
    "#checking column price - make a subset for price\n",
    "price = df['price']"
   ]
  },
  {
   "cell_type": "code",
   "execution_count": 33,
   "id": "61644aa2",
   "metadata": {},
   "outputs": [
    {
     "data": {
      "text/plain": [
       "60      149\n",
       "80      143\n",
       "50      142\n",
       "100     139\n",
       "70      136\n",
       "       ... \n",
       "1000      1\n",
       "216       1\n",
       "8000      1\n",
       "302       1\n",
       "169       1\n",
       "Name: price, Length: 361, dtype: int64"
      ]
     },
     "execution_count": 33,
     "metadata": {},
     "output_type": "execute_result"
    }
   ],
   "source": [
    "# Check value counts\n",
    "price.value_counts(dropna=False)"
   ]
  },
  {
   "cell_type": "code",
   "execution_count": 34,
   "id": "476c5af5",
   "metadata": {},
   "outputs": [
    {
     "data": {
      "text/plain": [
       "1"
      ]
     },
     "execution_count": 34,
     "metadata": {},
     "output_type": "execute_result"
    }
   ],
   "source": [
    "df.value_counts(df.price == '0').count()"
   ]
  },
  {
   "cell_type": "code",
   "execution_count": 35,
   "id": "462ac8e8",
   "metadata": {},
   "outputs": [],
   "source": [
    "# Create subset of price = 0 \n",
    "price_0 = df.loc[df['price'] == 0]"
   ]
  },
  {
   "cell_type": "code",
   "execution_count": 36,
   "id": "7598c81d",
   "metadata": {},
   "outputs": [
    {
     "data": {
      "text/html": [
       "<div>\n",
       "<style scoped>\n",
       "    .dataframe tbody tr th:only-of-type {\n",
       "        vertical-align: middle;\n",
       "    }\n",
       "\n",
       "    .dataframe tbody tr th {\n",
       "        vertical-align: top;\n",
       "    }\n",
       "\n",
       "    .dataframe thead th {\n",
       "        text-align: right;\n",
       "    }\n",
       "</style>\n",
       "<table border=\"1\" class=\"dataframe\">\n",
       "  <thead>\n",
       "    <tr style=\"text-align: right;\">\n",
       "      <th></th>\n",
       "      <th>id</th>\n",
       "      <th>name</th>\n",
       "      <th>host_id</th>\n",
       "      <th>host_name</th>\n",
       "      <th>neighbourhood</th>\n",
       "      <th>latitude</th>\n",
       "      <th>longitude</th>\n",
       "      <th>room_type</th>\n",
       "      <th>price</th>\n",
       "      <th>minimum_nights</th>\n",
       "      <th>number_of_reviews</th>\n",
       "      <th>calculated_host_listings_count</th>\n",
       "      <th>availability_365</th>\n",
       "      <th>number_of_reviews_ltm</th>\n",
       "    </tr>\n",
       "  </thead>\n",
       "  <tbody>\n",
       "    <tr>\n",
       "      <th>3610</th>\n",
       "      <td>43035777</td>\n",
       "      <td>Mirabell</td>\n",
       "      <td>312809209</td>\n",
       "      <td>Hotel Mirabell</td>\n",
       "      <td>Ludwigsvorstadt-Isarvorstadt</td>\n",
       "      <td>48.136510</td>\n",
       "      <td>11.559040</td>\n",
       "      <td>Hotel room</td>\n",
       "      <td>0</td>\n",
       "      <td>1</td>\n",
       "      <td>0</td>\n",
       "      <td>7</td>\n",
       "      <td>0</td>\n",
       "      <td>0</td>\n",
       "    </tr>\n",
       "    <tr>\n",
       "      <th>3655</th>\n",
       "      <td>43417843</td>\n",
       "      <td>Boutique Hotel Krone</td>\n",
       "      <td>346014391</td>\n",
       "      <td>Boutique Hotel Krone</td>\n",
       "      <td>Schwanthalerhöhe</td>\n",
       "      <td>48.135470</td>\n",
       "      <td>11.547170</td>\n",
       "      <td>Hotel room</td>\n",
       "      <td>0</td>\n",
       "      <td>1</td>\n",
       "      <td>2</td>\n",
       "      <td>1</td>\n",
       "      <td>0</td>\n",
       "      <td>2</td>\n",
       "    </tr>\n",
       "    <tr>\n",
       "      <th>3659</th>\n",
       "      <td>43438081</td>\n",
       "      <td>Hotel Lex München</td>\n",
       "      <td>346238844</td>\n",
       "      <td>Hotel Lex</td>\n",
       "      <td>Maxvorstadt</td>\n",
       "      <td>48.147330</td>\n",
       "      <td>11.560640</td>\n",
       "      <td>Hotel room</td>\n",
       "      <td>0</td>\n",
       "      <td>1</td>\n",
       "      <td>0</td>\n",
       "      <td>1</td>\n",
       "      <td>0</td>\n",
       "      <td>0</td>\n",
       "    </tr>\n",
       "    <tr>\n",
       "      <th>4008</th>\n",
       "      <td>46096671</td>\n",
       "      <td>25hours Hotel The Royal Bavarian</td>\n",
       "      <td>347631730</td>\n",
       "      <td>25hours Hotel</td>\n",
       "      <td>Ludwigsvorstadt-Isarvorstadt</td>\n",
       "      <td>48.138698</td>\n",
       "      <td>11.562324</td>\n",
       "      <td>Hotel room</td>\n",
       "      <td>0</td>\n",
       "      <td>1</td>\n",
       "      <td>0</td>\n",
       "      <td>1</td>\n",
       "      <td>0</td>\n",
       "      <td>0</td>\n",
       "    </tr>\n",
       "  </tbody>\n",
       "</table>\n",
       "</div>"
      ],
      "text/plain": [
       "            id                              name    host_id  \\\n",
       "3610  43035777                          Mirabell  312809209   \n",
       "3655  43417843              Boutique Hotel Krone  346014391   \n",
       "3659  43438081                 Hotel Lex München  346238844   \n",
       "4008  46096671  25hours Hotel The Royal Bavarian  347631730   \n",
       "\n",
       "                 host_name                 neighbourhood   latitude  \\\n",
       "3610        Hotel Mirabell  Ludwigsvorstadt-Isarvorstadt  48.136510   \n",
       "3655  Boutique Hotel Krone              Schwanthalerhöhe  48.135470   \n",
       "3659             Hotel Lex                   Maxvorstadt  48.147330   \n",
       "4008         25hours Hotel  Ludwigsvorstadt-Isarvorstadt  48.138698   \n",
       "\n",
       "      longitude   room_type  price  minimum_nights  number_of_reviews  \\\n",
       "3610  11.559040  Hotel room      0               1                  0   \n",
       "3655  11.547170  Hotel room      0               1                  2   \n",
       "3659  11.560640  Hotel room      0               1                  0   \n",
       "4008  11.562324  Hotel room      0               1                  0   \n",
       "\n",
       "      calculated_host_listings_count  availability_365  number_of_reviews_ltm  \n",
       "3610                               7                 0                      0  \n",
       "3655                               1                 0                      2  \n",
       "3659                               1                 0                      0  \n",
       "4008                               1                 0                      0  "
      ]
     },
     "execution_count": 36,
     "metadata": {},
     "output_type": "execute_result"
    }
   ],
   "source": [
    "price_0.head(100)"
   ]
  },
  {
   "cell_type": "code",
   "execution_count": 37,
   "id": "ddaa30d1",
   "metadata": {},
   "outputs": [
    {
     "data": {
      "text/plain": [
       "(4, 14)"
      ]
     },
     "execution_count": 37,
     "metadata": {},
     "output_type": "execute_result"
    }
   ],
   "source": [
    "price_0.shape"
   ]
  },
  {
   "cell_type": "code",
   "execution_count": 38,
   "id": "f3105f6c",
   "metadata": {},
   "outputs": [],
   "source": [
    "#I will input the median for the price 0\n",
    "# Impute 0 values in price with mean\n",
    "df['price']=df['price'].replace(0,df['price'].mean())"
   ]
  },
  {
   "cell_type": "code",
   "execution_count": 39,
   "id": "7cc17de6",
   "metadata": {},
   "outputs": [],
   "source": [
    "price_0_2 = df.loc[df['price'] == 0]"
   ]
  },
  {
   "cell_type": "code",
   "execution_count": 40,
   "id": "f847afe4",
   "metadata": {},
   "outputs": [
    {
     "data": {
      "text/plain": [
       "(0, 14)"
      ]
     },
     "execution_count": 40,
     "metadata": {},
     "output_type": "execute_result"
    }
   ],
   "source": [
    "price_0_2.shape"
   ]
  },
  {
   "cell_type": "code",
   "execution_count": 41,
   "id": "f28c8e6f",
   "metadata": {},
   "outputs": [
    {
     "data": {
      "text/html": [
       "<div>\n",
       "<style scoped>\n",
       "    .dataframe tbody tr th:only-of-type {\n",
       "        vertical-align: middle;\n",
       "    }\n",
       "\n",
       "    .dataframe tbody tr th {\n",
       "        vertical-align: top;\n",
       "    }\n",
       "\n",
       "    .dataframe thead th {\n",
       "        text-align: right;\n",
       "    }\n",
       "</style>\n",
       "<table border=\"1\" class=\"dataframe\">\n",
       "  <thead>\n",
       "    <tr style=\"text-align: right;\">\n",
       "      <th></th>\n",
       "      <th>latitude</th>\n",
       "      <th>longitude</th>\n",
       "      <th>price</th>\n",
       "      <th>minimum_nights</th>\n",
       "      <th>number_of_reviews</th>\n",
       "      <th>calculated_host_listings_count</th>\n",
       "      <th>availability_365</th>\n",
       "      <th>number_of_reviews_ltm</th>\n",
       "    </tr>\n",
       "  </thead>\n",
       "  <tbody>\n",
       "    <tr>\n",
       "      <th>count</th>\n",
       "      <td>4995.000000</td>\n",
       "      <td>4995.000000</td>\n",
       "      <td>4995.000000</td>\n",
       "      <td>4995.000000</td>\n",
       "      <td>4995.000000</td>\n",
       "      <td>4995.000000</td>\n",
       "      <td>4995.000000</td>\n",
       "      <td>4995.000000</td>\n",
       "    </tr>\n",
       "    <tr>\n",
       "      <th>mean</th>\n",
       "      <td>48.140613</td>\n",
       "      <td>11.565088</td>\n",
       "      <td>127.958644</td>\n",
       "      <td>9.006807</td>\n",
       "      <td>22.338138</td>\n",
       "      <td>2.559159</td>\n",
       "      <td>135.479680</td>\n",
       "      <td>3.485686</td>\n",
       "    </tr>\n",
       "    <tr>\n",
       "      <th>std</th>\n",
       "      <td>0.025502</td>\n",
       "      <td>0.047024</td>\n",
       "      <td>374.127969</td>\n",
       "      <td>31.415472</td>\n",
       "      <td>55.676039</td>\n",
       "      <td>4.541520</td>\n",
       "      <td>136.233306</td>\n",
       "      <td>12.682482</td>\n",
       "    </tr>\n",
       "    <tr>\n",
       "      <th>min</th>\n",
       "      <td>48.068870</td>\n",
       "      <td>11.366801</td>\n",
       "      <td>9.000000</td>\n",
       "      <td>1.000000</td>\n",
       "      <td>0.000000</td>\n",
       "      <td>1.000000</td>\n",
       "      <td>0.000000</td>\n",
       "      <td>0.000000</td>\n",
       "    </tr>\n",
       "    <tr>\n",
       "      <th>25%</th>\n",
       "      <td>48.123745</td>\n",
       "      <td>11.540435</td>\n",
       "      <td>55.000000</td>\n",
       "      <td>1.000000</td>\n",
       "      <td>1.000000</td>\n",
       "      <td>1.000000</td>\n",
       "      <td>0.000000</td>\n",
       "      <td>0.000000</td>\n",
       "    </tr>\n",
       "    <tr>\n",
       "      <th>50%</th>\n",
       "      <td>48.137520</td>\n",
       "      <td>11.565530</td>\n",
       "      <td>81.000000</td>\n",
       "      <td>2.000000</td>\n",
       "      <td>4.000000</td>\n",
       "      <td>1.000000</td>\n",
       "      <td>88.000000</td>\n",
       "      <td>0.000000</td>\n",
       "    </tr>\n",
       "    <tr>\n",
       "      <th>75%</th>\n",
       "      <td>48.157410</td>\n",
       "      <td>11.586970</td>\n",
       "      <td>125.000000</td>\n",
       "      <td>5.000000</td>\n",
       "      <td>17.000000</td>\n",
       "      <td>2.000000</td>\n",
       "      <td>268.000000</td>\n",
       "      <td>2.000000</td>\n",
       "    </tr>\n",
       "    <tr>\n",
       "      <th>max</th>\n",
       "      <td>48.229500</td>\n",
       "      <td>11.711980</td>\n",
       "      <td>9999.000000</td>\n",
       "      <td>1000.000000</td>\n",
       "      <td>765.000000</td>\n",
       "      <td>33.000000</td>\n",
       "      <td>365.000000</td>\n",
       "      <td>450.000000</td>\n",
       "    </tr>\n",
       "  </tbody>\n",
       "</table>\n",
       "</div>"
      ],
      "text/plain": [
       "          latitude    longitude        price  minimum_nights  \\\n",
       "count  4995.000000  4995.000000  4995.000000     4995.000000   \n",
       "mean     48.140613    11.565088   127.958644        9.006807   \n",
       "std       0.025502     0.047024   374.127969       31.415472   \n",
       "min      48.068870    11.366801     9.000000        1.000000   \n",
       "25%      48.123745    11.540435    55.000000        1.000000   \n",
       "50%      48.137520    11.565530    81.000000        2.000000   \n",
       "75%      48.157410    11.586970   125.000000        5.000000   \n",
       "max      48.229500    11.711980  9999.000000     1000.000000   \n",
       "\n",
       "       number_of_reviews  calculated_host_listings_count  availability_365  \\\n",
       "count        4995.000000                     4995.000000       4995.000000   \n",
       "mean           22.338138                        2.559159        135.479680   \n",
       "std            55.676039                        4.541520        136.233306   \n",
       "min             0.000000                        1.000000          0.000000   \n",
       "25%             1.000000                        1.000000          0.000000   \n",
       "50%             4.000000                        1.000000         88.000000   \n",
       "75%            17.000000                        2.000000        268.000000   \n",
       "max           765.000000                       33.000000        365.000000   \n",
       "\n",
       "       number_of_reviews_ltm  \n",
       "count            4995.000000  \n",
       "mean                3.485686  \n",
       "std                12.682482  \n",
       "min                 0.000000  \n",
       "25%                 0.000000  \n",
       "50%                 0.000000  \n",
       "75%                 2.000000  \n",
       "max               450.000000  "
      ]
     },
     "execution_count": 41,
     "metadata": {},
     "output_type": "execute_result"
    }
   ],
   "source": [
    "df.describe()"
   ]
  },
  {
   "cell_type": "code",
   "execution_count": 42,
   "id": "6b775886",
   "metadata": {},
   "outputs": [],
   "source": [
    "#checking the max price \n",
    "price_max = df.loc[df['price'] == 9999]"
   ]
  },
  {
   "cell_type": "code",
   "execution_count": 43,
   "id": "cac1f664",
   "metadata": {},
   "outputs": [
    {
     "data": {
      "text/html": [
       "<div>\n",
       "<style scoped>\n",
       "    .dataframe tbody tr th:only-of-type {\n",
       "        vertical-align: middle;\n",
       "    }\n",
       "\n",
       "    .dataframe tbody tr th {\n",
       "        vertical-align: top;\n",
       "    }\n",
       "\n",
       "    .dataframe thead th {\n",
       "        text-align: right;\n",
       "    }\n",
       "</style>\n",
       "<table border=\"1\" class=\"dataframe\">\n",
       "  <thead>\n",
       "    <tr style=\"text-align: right;\">\n",
       "      <th></th>\n",
       "      <th>id</th>\n",
       "      <th>name</th>\n",
       "      <th>host_id</th>\n",
       "      <th>host_name</th>\n",
       "      <th>neighbourhood</th>\n",
       "      <th>latitude</th>\n",
       "      <th>longitude</th>\n",
       "      <th>room_type</th>\n",
       "      <th>price</th>\n",
       "      <th>minimum_nights</th>\n",
       "      <th>number_of_reviews</th>\n",
       "      <th>calculated_host_listings_count</th>\n",
       "      <th>availability_365</th>\n",
       "      <th>number_of_reviews_ltm</th>\n",
       "    </tr>\n",
       "  </thead>\n",
       "  <tbody>\n",
       "    <tr>\n",
       "      <th>4852</th>\n",
       "      <td>53490851</td>\n",
       "      <td>Doppelzimmer Standard I Schwabinger Wahrheit</td>\n",
       "      <td>411660927</td>\n",
       "      <td>Schwabinger Wahrheit</td>\n",
       "      <td>Schwabing-Freimann</td>\n",
       "      <td>48.158932</td>\n",
       "      <td>11.583173</td>\n",
       "      <td>Private room</td>\n",
       "      <td>9999.0</td>\n",
       "      <td>1</td>\n",
       "      <td>0</td>\n",
       "      <td>5</td>\n",
       "      <td>0</td>\n",
       "      <td>0</td>\n",
       "    </tr>\n",
       "    <tr>\n",
       "      <th>4853</th>\n",
       "      <td>53491094</td>\n",
       "      <td>Doppelzimmer Hof I Schwabinger Wahrheit by Geisel</td>\n",
       "      <td>411660927</td>\n",
       "      <td>Schwabinger Wahrheit</td>\n",
       "      <td>Schwabing-Freimann</td>\n",
       "      <td>48.158410</td>\n",
       "      <td>11.584970</td>\n",
       "      <td>Private room</td>\n",
       "      <td>9999.0</td>\n",
       "      <td>1</td>\n",
       "      <td>0</td>\n",
       "      <td>5</td>\n",
       "      <td>0</td>\n",
       "      <td>0</td>\n",
       "    </tr>\n",
       "    <tr>\n",
       "      <th>4854</th>\n",
       "      <td>53491338</td>\n",
       "      <td>Kompaktsuite I Schwabinger Wahrheit by Geisel</td>\n",
       "      <td>411660927</td>\n",
       "      <td>Schwabinger Wahrheit</td>\n",
       "      <td>Schwabing-Freimann</td>\n",
       "      <td>48.158150</td>\n",
       "      <td>11.583690</td>\n",
       "      <td>Private room</td>\n",
       "      <td>9999.0</td>\n",
       "      <td>1</td>\n",
       "      <td>0</td>\n",
       "      <td>5</td>\n",
       "      <td>0</td>\n",
       "      <td>0</td>\n",
       "    </tr>\n",
       "    <tr>\n",
       "      <th>4855</th>\n",
       "      <td>53491420</td>\n",
       "      <td>Kompaktsuite Hof I Schwabinger Wahrheit by Geisel</td>\n",
       "      <td>411660927</td>\n",
       "      <td>Schwabinger Wahrheit</td>\n",
       "      <td>Schwabing-Freimann</td>\n",
       "      <td>48.160383</td>\n",
       "      <td>11.583601</td>\n",
       "      <td>Private room</td>\n",
       "      <td>9999.0</td>\n",
       "      <td>1</td>\n",
       "      <td>0</td>\n",
       "      <td>5</td>\n",
       "      <td>0</td>\n",
       "      <td>0</td>\n",
       "    </tr>\n",
       "  </tbody>\n",
       "</table>\n",
       "</div>"
      ],
      "text/plain": [
       "            id                                               name    host_id  \\\n",
       "4852  53490851       Doppelzimmer Standard I Schwabinger Wahrheit  411660927   \n",
       "4853  53491094  Doppelzimmer Hof I Schwabinger Wahrheit by Geisel  411660927   \n",
       "4854  53491338      Kompaktsuite I Schwabinger Wahrheit by Geisel  411660927   \n",
       "4855  53491420  Kompaktsuite Hof I Schwabinger Wahrheit by Geisel  411660927   \n",
       "\n",
       "                 host_name       neighbourhood   latitude  longitude  \\\n",
       "4852  Schwabinger Wahrheit  Schwabing-Freimann  48.158932  11.583173   \n",
       "4853  Schwabinger Wahrheit  Schwabing-Freimann  48.158410  11.584970   \n",
       "4854  Schwabinger Wahrheit  Schwabing-Freimann  48.158150  11.583690   \n",
       "4855  Schwabinger Wahrheit  Schwabing-Freimann  48.160383  11.583601   \n",
       "\n",
       "         room_type   price  minimum_nights  number_of_reviews  \\\n",
       "4852  Private room  9999.0               1                  0   \n",
       "4853  Private room  9999.0               1                  0   \n",
       "4854  Private room  9999.0               1                  0   \n",
       "4855  Private room  9999.0               1                  0   \n",
       "\n",
       "      calculated_host_listings_count  availability_365  number_of_reviews_ltm  \n",
       "4852                               5                 0                      0  \n",
       "4853                               5                 0                      0  \n",
       "4854                               5                 0                      0  \n",
       "4855                               5                 0                      0  "
      ]
     },
     "execution_count": 43,
     "metadata": {},
     "output_type": "execute_result"
    }
   ],
   "source": [
    "price_max.head()"
   ]
  },
  {
   "cell_type": "code",
   "execution_count": 44,
   "id": "94d9ba59",
   "metadata": {},
   "outputs": [],
   "source": [
    "#I dont think the price of 9999 for a hotel room is unreasonable ,After checking the hotel price their average price per night is 120 euro I will replace this particular column with mean\n",
    "df['price']=df['price'].replace(9999,df['price'].mean())"
   ]
  },
  {
   "cell_type": "code",
   "execution_count": 46,
   "id": "4aef384b",
   "metadata": {},
   "outputs": [],
   "source": [
    "price_max = df.loc[df['price'] == 8255\n",
    "                  ]"
   ]
  },
  {
   "cell_type": "code",
   "execution_count": 47,
   "id": "4b41cd1d",
   "metadata": {},
   "outputs": [
    {
     "data": {
      "text/html": [
       "<div>\n",
       "<style scoped>\n",
       "    .dataframe tbody tr th:only-of-type {\n",
       "        vertical-align: middle;\n",
       "    }\n",
       "\n",
       "    .dataframe tbody tr th {\n",
       "        vertical-align: top;\n",
       "    }\n",
       "\n",
       "    .dataframe thead th {\n",
       "        text-align: right;\n",
       "    }\n",
       "</style>\n",
       "<table border=\"1\" class=\"dataframe\">\n",
       "  <thead>\n",
       "    <tr style=\"text-align: right;\">\n",
       "      <th></th>\n",
       "      <th>id</th>\n",
       "      <th>name</th>\n",
       "      <th>host_id</th>\n",
       "      <th>host_name</th>\n",
       "      <th>neighbourhood</th>\n",
       "      <th>latitude</th>\n",
       "      <th>longitude</th>\n",
       "      <th>room_type</th>\n",
       "      <th>price</th>\n",
       "      <th>minimum_nights</th>\n",
       "      <th>number_of_reviews</th>\n",
       "      <th>calculated_host_listings_count</th>\n",
       "      <th>availability_365</th>\n",
       "      <th>number_of_reviews_ltm</th>\n",
       "    </tr>\n",
       "  </thead>\n",
       "  <tbody>\n",
       "    <tr>\n",
       "      <th>4087</th>\n",
       "      <td>46912180</td>\n",
       "      <td>Hochzeits-, Veranstaltungshotel zur Exclusiv-M...</td>\n",
       "      <td>373457505</td>\n",
       "      <td>Parkhotel</td>\n",
       "      <td>Bogenhausen</td>\n",
       "      <td>48.14863</td>\n",
       "      <td>11.62513</td>\n",
       "      <td>Entire home/apt</td>\n",
       "      <td>8255.0</td>\n",
       "      <td>1</td>\n",
       "      <td>0</td>\n",
       "      <td>2</td>\n",
       "      <td>261</td>\n",
       "      <td>0</td>\n",
       "    </tr>\n",
       "  </tbody>\n",
       "</table>\n",
       "</div>"
      ],
      "text/plain": [
       "            id                                               name    host_id  \\\n",
       "4087  46912180  Hochzeits-, Veranstaltungshotel zur Exclusiv-M...  373457505   \n",
       "\n",
       "      host_name neighbourhood  latitude  longitude        room_type   price  \\\n",
       "4087  Parkhotel   Bogenhausen  48.14863   11.62513  Entire home/apt  8255.0   \n",
       "\n",
       "      minimum_nights  number_of_reviews  calculated_host_listings_count  \\\n",
       "4087               1                  0                               2   \n",
       "\n",
       "      availability_365  number_of_reviews_ltm  \n",
       "4087               261                      0  "
      ]
     },
     "execution_count": 47,
     "metadata": {},
     "output_type": "execute_result"
    }
   ],
   "source": [
    "price_max.head()"
   ]
  },
  {
   "cell_type": "code",
   "execution_count": 48,
   "id": "53b24fd2",
   "metadata": {},
   "outputs": [],
   "source": [
    "#after checking the hotel as well the average price per night is 120 euro (so i decided to replace the price with mean)\n",
    "df['price']=df['price'].replace(8255,df['price'].mean())"
   ]
  },
  {
   "cell_type": "code",
   "execution_count": 50,
   "id": "0c372513",
   "metadata": {},
   "outputs": [],
   "source": [
    "price_max = df.loc[df['price'] == 8000\n",
    "                  ]"
   ]
  },
  {
   "cell_type": "code",
   "execution_count": 52,
   "id": "261269d9",
   "metadata": {},
   "outputs": [
    {
     "data": {
      "text/html": [
       "<div>\n",
       "<style scoped>\n",
       "    .dataframe tbody tr th:only-of-type {\n",
       "        vertical-align: middle;\n",
       "    }\n",
       "\n",
       "    .dataframe tbody tr th {\n",
       "        vertical-align: top;\n",
       "    }\n",
       "\n",
       "    .dataframe thead th {\n",
       "        text-align: right;\n",
       "    }\n",
       "</style>\n",
       "<table border=\"1\" class=\"dataframe\">\n",
       "  <thead>\n",
       "    <tr style=\"text-align: right;\">\n",
       "      <th></th>\n",
       "      <th>latitude</th>\n",
       "      <th>longitude</th>\n",
       "      <th>price</th>\n",
       "      <th>minimum_nights</th>\n",
       "      <th>number_of_reviews</th>\n",
       "      <th>calculated_host_listings_count</th>\n",
       "      <th>availability_365</th>\n",
       "      <th>number_of_reviews_ltm</th>\n",
       "    </tr>\n",
       "  </thead>\n",
       "  <tbody>\n",
       "    <tr>\n",
       "      <th>count</th>\n",
       "      <td>4995.000000</td>\n",
       "      <td>4995.000000</td>\n",
       "      <td>4995.000000</td>\n",
       "      <td>4995.000000</td>\n",
       "      <td>4995.000000</td>\n",
       "      <td>4995.000000</td>\n",
       "      <td>4995.000000</td>\n",
       "      <td>4995.000000</td>\n",
       "    </tr>\n",
       "    <tr>\n",
       "      <th>mean</th>\n",
       "      <td>48.140613</td>\n",
       "      <td>11.565088</td>\n",
       "      <td>118.425288</td>\n",
       "      <td>9.006807</td>\n",
       "      <td>22.338138</td>\n",
       "      <td>2.559159</td>\n",
       "      <td>135.479680</td>\n",
       "      <td>3.485686</td>\n",
       "    </tr>\n",
       "    <tr>\n",
       "      <th>std</th>\n",
       "      <td>0.025502</td>\n",
       "      <td>0.047024</td>\n",
       "      <td>220.480379</td>\n",
       "      <td>31.415472</td>\n",
       "      <td>55.676039</td>\n",
       "      <td>4.541520</td>\n",
       "      <td>136.233306</td>\n",
       "      <td>12.682482</td>\n",
       "    </tr>\n",
       "    <tr>\n",
       "      <th>min</th>\n",
       "      <td>48.068870</td>\n",
       "      <td>11.366801</td>\n",
       "      <td>9.000000</td>\n",
       "      <td>1.000000</td>\n",
       "      <td>0.000000</td>\n",
       "      <td>1.000000</td>\n",
       "      <td>0.000000</td>\n",
       "      <td>0.000000</td>\n",
       "    </tr>\n",
       "    <tr>\n",
       "      <th>25%</th>\n",
       "      <td>48.123745</td>\n",
       "      <td>11.540435</td>\n",
       "      <td>55.000000</td>\n",
       "      <td>1.000000</td>\n",
       "      <td>1.000000</td>\n",
       "      <td>1.000000</td>\n",
       "      <td>0.000000</td>\n",
       "      <td>0.000000</td>\n",
       "    </tr>\n",
       "    <tr>\n",
       "      <th>50%</th>\n",
       "      <td>48.137520</td>\n",
       "      <td>11.565530</td>\n",
       "      <td>81.000000</td>\n",
       "      <td>2.000000</td>\n",
       "      <td>4.000000</td>\n",
       "      <td>1.000000</td>\n",
       "      <td>88.000000</td>\n",
       "      <td>0.000000</td>\n",
       "    </tr>\n",
       "    <tr>\n",
       "      <th>75%</th>\n",
       "      <td>48.157410</td>\n",
       "      <td>11.586970</td>\n",
       "      <td>125.000000</td>\n",
       "      <td>5.000000</td>\n",
       "      <td>17.000000</td>\n",
       "      <td>2.000000</td>\n",
       "      <td>268.000000</td>\n",
       "      <td>2.000000</td>\n",
       "    </tr>\n",
       "    <tr>\n",
       "      <th>max</th>\n",
       "      <td>48.229500</td>\n",
       "      <td>11.711980</td>\n",
       "      <td>8000.000000</td>\n",
       "      <td>1000.000000</td>\n",
       "      <td>765.000000</td>\n",
       "      <td>33.000000</td>\n",
       "      <td>365.000000</td>\n",
       "      <td>450.000000</td>\n",
       "    </tr>\n",
       "  </tbody>\n",
       "</table>\n",
       "</div>"
      ],
      "text/plain": [
       "          latitude    longitude        price  minimum_nights  \\\n",
       "count  4995.000000  4995.000000  4995.000000     4995.000000   \n",
       "mean     48.140613    11.565088   118.425288        9.006807   \n",
       "std       0.025502     0.047024   220.480379       31.415472   \n",
       "min      48.068870    11.366801     9.000000        1.000000   \n",
       "25%      48.123745    11.540435    55.000000        1.000000   \n",
       "50%      48.137520    11.565530    81.000000        2.000000   \n",
       "75%      48.157410    11.586970   125.000000        5.000000   \n",
       "max      48.229500    11.711980  8000.000000     1000.000000   \n",
       "\n",
       "       number_of_reviews  calculated_host_listings_count  availability_365  \\\n",
       "count        4995.000000                     4995.000000       4995.000000   \n",
       "mean           22.338138                        2.559159        135.479680   \n",
       "std            55.676039                        4.541520        136.233306   \n",
       "min             0.000000                        1.000000          0.000000   \n",
       "25%             1.000000                        1.000000          0.000000   \n",
       "50%             4.000000                        1.000000         88.000000   \n",
       "75%            17.000000                        2.000000        268.000000   \n",
       "max           765.000000                       33.000000        365.000000   \n",
       "\n",
       "       number_of_reviews_ltm  \n",
       "count            4995.000000  \n",
       "mean                3.485686  \n",
       "std                12.682482  \n",
       "min                 0.000000  \n",
       "25%                 0.000000  \n",
       "50%                 0.000000  \n",
       "75%                 2.000000  \n",
       "max               450.000000  "
      ]
     },
     "execution_count": 52,
     "metadata": {},
     "output_type": "execute_result"
    }
   ],
   "source": [
    "df.describe()"
   ]
  },
  {
   "cell_type": "markdown",
   "id": "d82a8dae",
   "metadata": {},
   "source": [
    "__04. Visualization__"
   ]
  },
  {
   "cell_type": "code",
   "execution_count": 53,
   "id": "6065c074",
   "metadata": {},
   "outputs": [
    {
     "data": {
      "text/plain": [
       "<AxesSubplot:ylabel='Frequency'>"
      ]
     },
     "execution_count": 53,
     "metadata": {},
     "output_type": "execute_result"
    },
    {
     "data": {
      "image/png": "[encoded data removed]",
      "text/plain": [
       "<Figure size 432x288 with 1 Axes>"
      ]
     },
     "metadata": {
      "needs_background": "light"
     },
     "output_type": "display_data"
    }
   ],
   "source": [
    "# Create histogram to check distributions\n",
    "df['price'].plot.hist(bins = 10)"
   ]
  },
  {
   "cell_type": "code",
   "execution_count": 54,
   "id": "f2676332",
   "metadata": {},
   "outputs": [
    {
     "data": {
      "text/plain": [
       "<AxesSubplot:xlabel='price', ylabel='price'>"
      ]
     },
     "execution_count": 54,
     "metadata": {},
     "output_type": "execute_result"
    },
    {
     "data": {
      "image/png": "[encoded data removed]",
      "text/plain": [
       "<Figure size 432x288 with 1 Axes>"
      ]
     },
     "metadata": {
      "needs_background": "light"
     },
     "output_type": "display_data"
    }
   ],
   "source": [
    "# Create scatterplot of prices\n",
    "sns.scatterplot(x = 'price', y = 'price',data = df)"
   ]
  },
  {
   "cell_type": "code",
   "execution_count": 55,
   "id": "e9f0d5ac",
   "metadata": {},
   "outputs": [
    {
     "data": {
      "text/plain": [
       "(4995, 14)"
      ]
     },
     "execution_count": 55,
     "metadata": {},
     "output_type": "execute_result"
    }
   ],
   "source": [
    "df.shape"
   ]
  },
  {
   "cell_type": "code",
   "execution_count": 69,
   "id": "918b26fc",
   "metadata": {},
   "outputs": [],
   "source": [
    "#creating path for export\n",
    "path = "
   ]
  },
  {
   "cell_type": "code",
   "execution_count": 58,
   "id": "50b0d40f",
   "metadata": {},
   "outputs": [],
   "source": [
    "#checking path\n",
    "path = r'/Users/rayruslijunior/04-2022 Munich Airbnb Data Analysis'"
   ]
  },
  {
   "cell_type": "code",
   "execution_count": 59,
   "id": "3273aa95",
   "metadata": {},
   "outputs": [],
   "source": [
    "df.to_csv(os.path.join(path, '02 Data','Prepared Data','Munich_clean2.csv'))"
   ]
  },
  {
   "cell_type": "code",
   "execution_count": null,
   "id": "93fab945",
   "metadata": {},
   "outputs": [],
   "source": []
  }
 ],
 "metadata": {
  "kernelspec": {
   "display_name": "Python 3 (ipykernel)",
   "language": "python",
   "name": "python3"
  },
  "language_info": {
   "codemirror_mode": {
    "name": "ipython",
    "version": 3
   },
   "file_extension": ".py",
   "mimetype": "text/x-python",
   "name": "python",
   "nbconvert_exporter": "python",
   "pygments_lexer": "ipython3",
   "version": "3.8.12"
  }
 },
 "nbformat": 4,
 "nbformat_minor": 5
}
